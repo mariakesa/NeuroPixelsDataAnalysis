{
 "cells": [
  {
   "cell_type": "code",
   "execution_count": 1,
   "id": "54ca7304",
   "metadata": {},
   "outputs": [],
   "source": [
    "from brian2 import *\n",
    "import numpy as np\n",
    "import matplotlib.pyplot as plt"
   ]
  },
  {
   "cell_type": "code",
   "execution_count": 11,
   "id": "689d1f0b",
   "metadata": {},
   "outputs": [],
   "source": [
    "data_path = '/media/maria/DATA1/Documents/NeuroMatchAcademy2020_dat/unzipped_files/Richards_2017-10-31.tar'\n",
    "spike_times = np.load(data_path+'/'+'spikes.times.npy') * 1000 # Unbinned spike times in ms\n",
    "clusters_annotation = np.load(data_path+'/'+'clusters._phy_annotation.npy')\n",
    "spike_clusters = np.load(data_path+'/'+'spikes.clusters.npy')"
   ]
  },
  {
   "cell_type": "code",
   "execution_count": 13,
   "id": "6489b7fa",
   "metadata": {},
   "outputs": [],
   "source": [
    "def sort_into_cells(spike_times,clusters_annotation,spike_clusters):\n",
    "    spike_time_cells = np.empty(len(clusters_annotation), dtype=object) # Initalise empty object\n",
    "    for i in (np.arange(len(np.unique(spike_clusters)))):\n",
    "      # Create a spike time arrays, where each array in the array is a spike time of a cell\n",
    "      spike_time_cells[i] = spike_times[(np.where(spike_clusters == i)[0])]\n",
    "    return spike_time_cells"
   ]
  },
  {
   "cell_type": "code",
   "execution_count": 14,
   "id": "26bbfac6",
   "metadata": {},
   "outputs": [],
   "source": [
    "spike_time_cells=sort_into_cells(spike_times,clusters_annotation,spike_clusters)"
   ]
  },
  {
   "cell_type": "code",
   "execution_count": 17,
   "id": "236079e2",
   "metadata": {},
   "outputs": [
    {
     "name": "stdout",
     "output_type": "stream",
     "text": [
      "[[1.50146667e+03]\n",
      " [2.12953333e+03]\n",
      " [2.31823333e+03]\n",
      " ...\n",
      " [2.96655043e+06]\n",
      " [2.96662953e+06]\n",
      " [2.96669323e+06]]\n"
     ]
    }
   ],
   "source": [
    "print(spike_time_cells[0])"
   ]
  }
 ],
 "metadata": {
  "kernelspec": {
   "display_name": "Python 3",
   "language": "python",
   "name": "python3"
  },
  "language_info": {
   "codemirror_mode": {
    "name": "ipython",
    "version": 3
   },
   "file_extension": ".py",
   "mimetype": "text/x-python",
   "name": "python",
   "nbconvert_exporter": "python",
   "pygments_lexer": "ipython3",
   "version": "3.7.10"
  }
 },
 "nbformat": 4,
 "nbformat_minor": 5
}
