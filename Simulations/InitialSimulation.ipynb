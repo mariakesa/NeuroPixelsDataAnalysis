{
 "cells": [
  {
   "cell_type": "code",
   "execution_count": 1,
   "id": "935177c8",
   "metadata": {},
   "outputs": [],
   "source": [
    "from brian2 import *\n",
    "import numpy as np\n",
    "import matplotlib.pyplot as plt"
   ]
  },
  {
   "cell_type": "code",
   "execution_count": 3,
   "id": "8a08e9da",
   "metadata": {},
   "outputs": [],
   "source": [
    "data_path = '/media/maria/DATA1/Documents/NeuroMatchAcademy2020_dat/unzipped_files/Richards_2017-10-31.tar'\n",
    "spike_times = np.load(data_path+'/'+'spikes.times.npy') * 1000 # Unbinned spike times in ms\n",
    "clusters_annotation = np.load(data_path+'/'+'clusters._phy_annotation.npy')\n",
    "spike_clusters = np.load(data_path+'/'+'spikes.clusters.npy')"
   ]
  },
  {
   "cell_type": "code",
   "execution_count": 4,
   "id": "91b1a13c",
   "metadata": {},
   "outputs": [],
   "source": [
    "def sort_into_cells(spike_times,clusters_annotation,spike_clusters):\n",
    "    spike_time_cells = np.empty(len(clusters_annotation), dtype=object) # Initalise empty object\n",
    "    for i in (np.arange(len(np.unique(spike_clusters)))):\n",
    "      # Create a spike time arrays, where each array in the array is a spike time of a cell\n",
    "      spike_time_cells[i] = spike_times[(np.where(spike_clusters == i)[0])]\n",
    "    return spike_time_cells"
   ]
  },
  {
   "cell_type": "code",
   "execution_count": 5,
   "id": "94338d6e",
   "metadata": {},
   "outputs": [],
   "source": [
    "spike_time_cells=sort_into_cells(spike_times,clusters_annotation,spike_clusters)"
   ]
  },
  {
   "cell_type": "code",
   "execution_count": 17,
   "id": "5fb2ff33",
   "metadata": {
    "scrolled": true
   },
   "outputs": [
    {
     "name": "stdout",
     "output_type": "stream",
     "text": [
      "[[1.50146667e+03]\n",
      " [2.12953333e+03]\n",
      " [2.31823333e+03]\n",
      " ...\n",
      " [2.96655043e+06]\n",
      " [2.96662953e+06]\n",
      " [2.96669323e+06]]\n"
     ]
    }
   ],
   "source": [
    "print(spike_time_cells[0])"
   ]
  },
  {
   "cell_type": "code",
   "execution_count": 6,
   "id": "bb7da762",
   "metadata": {},
   "outputs": [],
   "source": [
    "def for_spike_generator(spike_time_cells):\n",
    "    spikes=[]\n",
    "    cell_identity=[]\n",
    "    for cell_ind in range(spike_time_cells.shape[0]):\n",
    "        for spike in list(spike_time_cells[cell_ind].flatten()):\n",
    "            spikes.append(spike*ms)\n",
    "            cell_identity.append(cell_ind)\n",
    "    inds=np.argsort(spikes)\n",
    "    spikes=np.array(spikes)[inds][:1000]\n",
    "    cell_identity=np.array(cell_identity)[inds][:1000]\n",
    "    return spikes, cell_identity    "
   ]
  },
  {
   "cell_type": "code",
   "execution_count": 9,
   "id": "15f62d8a",
   "metadata": {},
   "outputs": [],
   "source": [
    "spikes, cell_identity=for_spike_generator(spike_time_cells)"
   ]
  },
  {
   "cell_type": "code",
   "execution_count": 21,
   "id": "a5c03825",
   "metadata": {
    "scrolled": true
   },
   "outputs": [
    {
     "name": "stdout",
     "output_type": "stream",
     "text": [
      "[4.36666667e+00 5.20000000e+00 6.16666667e+00 ... 2.96827804e+06\n",
      " 2.96827817e+06 2.96827947e+06]\n",
      "[202 195  27 ... 443 488 402]\n"
     ]
    }
   ],
   "source": [
    "print(spikes)\n",
    "print(cell_identity)"
   ]
  },
  {
   "cell_type": "code",
   "execution_count": 16,
   "id": "73f3068e",
   "metadata": {
    "scrolled": true
   },
   "outputs": [
    {
     "name": "stderr",
     "output_type": "stream",
     "text": [
      "INFO       No numerical integration method specified for group 'neurongroup_6', using method 'exact' (took 0.01s). [brian2.stateupdaters.base.method_choice]\n"
     ]
    }
   ],
   "source": [
    "defaultclock.dt = 0.00005*ms\n",
    "tau = 10*ms\n",
    "vr = -70*mV\n",
    "vt = -60*mV\n",
    "eqs = '''\n",
    "dv/dt = -v/tau : volt\n",
    "'''\n",
    "neuron = NeuronGroup(1, eqs, threshold='v>vt', reset='v=vr')\n",
    "spikes_gen=SpikeGeneratorGroup(778,list(cell_identity),spikes*ms)\n",
    "w = 1*mV\n",
    "S = Synapses(spikes_gen, neuron, on_pre='v += w')\n",
    "S.connect()\n",
    "# Record the spikes\n",
    "Mgp = SpikeMonitor(neuron)\n",
    "Minput = SpikeMonitor(spikes_gen)\n",
    "duration=spikes[-1]*ms\n",
    "run(duration)"
   ]
  },
  {
   "cell_type": "code",
   "execution_count": 19,
   "id": "57300c04",
   "metadata": {},
   "outputs": [
    {
     "data": {
      "text/plain": [
       "[<matplotlib.lines.Line2D at 0x7fc1b958e9d0>]"
      ]
     },
     "execution_count": 19,
     "metadata": {},
     "output_type": "execute_result"
    },
    {
     "data": {
      "image/png": "[encoded data removed]",
      "text/plain": [
       "<Figure size 432x288 with 1 Axes>"
      ]
     },
     "metadata": {
      "needs_background": "light"
     },
     "output_type": "display_data"
    }
   ],
   "source": [
    "plot(Mgp.t/ms, Mgp.i, '.')"
   ]
  }
 ],
 "metadata": {
  "kernelspec": {
   "display_name": "Python 3",
   "language": "python",
   "name": "python3"
  },
  "language_info": {
   "codemirror_mode": {
    "name": "ipython",
    "version": 3
   },
   "file_extension": ".py",
   "mimetype": "text/x-python",
   "name": "python",
   "nbconvert_exporter": "python",
   "pygments_lexer": "ipython3",
   "version": "3.7.10"
  }
 },
 "nbformat": 4,
 "nbformat_minor": 5
}
