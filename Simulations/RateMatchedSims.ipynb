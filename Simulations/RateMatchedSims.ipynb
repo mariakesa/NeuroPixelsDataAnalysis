{
 "cells": [
  {
   "cell_type": "code",
   "execution_count": 2,
   "id": "d3422bc1",
   "metadata": {},
   "outputs": [],
   "source": [
    "from brian2 import *\n",
    "import numpy as np\n",
    "import matplotlib.pyplot as plt\n",
    "%matplotlib inline\n",
    "import time"
   ]
  },
  {
   "cell_type": "code",
   "execution_count": 20,
   "id": "9c5ec046",
   "metadata": {},
   "outputs": [],
   "source": [
    "spikes=np.load('/media/maria/DATA1/Documents/NeuroMatchAcademy2020_dat/spk_arr2.npy')*1000\n",
    "cell_identity=np.load('/media/maria/DATA1/Documents/NeuroMatchAcademy2020_dat/cell_identity2.npy')"
   ]
  },
  {
   "cell_type": "code",
   "execution_count": 26,
   "id": "6efed214",
   "metadata": {},
   "outputs": [],
   "source": [
    "def get_good_cells(fdirpath): #\n",
    "    # location in brain of each neuron\n",
    "    brain_loc = os.path.join(fdirpath, \"channels.brainLocation.tsv\")\n",
    "\n",
    "    good_cells = (np.load(os.path.join(fdirpath, \"clusters._phy_annotation.npy\")) >= 2 ).flatten()\n",
    "    clust_channel = np.load(os.path.join(fdirpath, \"clusters.peakChannel.npy\")).astype(int) - 1\n",
    "    br = []\n",
    "    with open(brain_loc, 'r') as tsv:\n",
    "        tsvin = csv.reader(tsv, delimiter=\"\\t\")\n",
    "        k=0\n",
    "        for row in tsvin:\n",
    "            if k>0:\n",
    "                br.append(row[-1])\n",
    "            k+=1\n",
    "    br = np.array(br)\n",
    "    good_cells = np.logical_and(good_cells, clust_channel.flatten()<len(br))\n",
    "    brain_region = br[clust_channel[:,0]]\n",
    "\n",
    "\n",
    "    return good_cells, brain_region, br\n",
    "\n",
    "def bin_spikes(spike_times,spike_clusters, bin_size = 10):\n",
    "\n",
    "    # Using clusters._phy_annotation.npy obtain valid clusters (i.e. >= 2)\n",
    "    # valid_clusters_idx = np.array(np.where(clusters_annotation>=2))[0]\n",
    "\n",
    "    spike_time_cells = np.empty(1000, dtype=object) # Initalise empty object\n",
    "    for i in (np.arange(len(np.unique(spike_clusters)))):\n",
    "      # Create a spike time arrays, where each array in the array is a spike time of a cell\n",
    "      spike_time_cells[i] = spike_times[(np.where(spike_clusters == i)[0])]\n",
    "\n",
    "    # Bin spike times into 10ms intervals\n",
    "    spike_time_binned = np.empty(len(np.unique(spike_clusters)), dtype=object) # Initalise empty object\n",
    "    sum_spikes = np.empty(len(np.unique(spike_clusters)), dtype=object) # Initalise empty object\n",
    "\n",
    "    for cell_num in np.arange(len(spike_time_cells)):\n",
    "        spike_time_hist = np.histogram(spike_time_cells[cell_num],bins = np.arange(0,np.floor(spike_time_cells[cell_num][-1]),bin_size))\n",
    "        spike_time_binned[cell_num] = spike_time_hist[0][:9000]\n",
    "        sum_spikes[cell_num] = np.sum(spike_time_binned[cell_num])\n",
    "\n",
    "    cell_spikes_max = np.argmax(sum_spikes) # cell with the maximum number of spikes for plotting purposes\n",
    "\n",
    "    # Spike_time_binned returns binned spikes sorted into cells\n",
    "    # Spike_time_cells returns UNbinned spikes sorted into cells\n",
    "    # cell_spikes_max returns a single cell index that has the max number of spikes (i.e most active cell)\n",
    "    return spike_time_binned"
   ]
  },
  {
   "cell_type": "code",
   "execution_count": 13,
   "id": "90ce80a5",
   "metadata": {},
   "outputs": [
    {
     "name": "stdout",
     "output_type": "stream",
     "text": [
      "0\n"
     ]
    }
   ],
   "source": [
    "print(min(cell_identity))"
   ]
  },
  {
   "cell_type": "code",
   "execution_count": 27,
   "id": "764a1bf3",
   "metadata": {},
   "outputs": [],
   "source": [
    "spikes_binned=bin_spikes(spikes,cell_identity, bin_size = 10)"
   ]
  },
  {
   "cell_type": "code",
   "execution_count": 23,
   "id": "b6721a26",
   "metadata": {},
   "outputs": [
    {
     "name": "stdout",
     "output_type": "stream",
     "text": [
      "[0 0 0 ... 0 0 0]\n"
     ]
    }
   ],
   "source": [
    "print(spikes_binned[2])"
   ]
  },
  {
   "cell_type": "code",
   "execution_count": 24,
   "id": "2cf2123b",
   "metadata": {},
   "outputs": [
    {
     "data": {
      "text/plain": [
       "1000"
      ]
     },
     "execution_count": 24,
     "metadata": {},
     "output_type": "execute_result"
    }
   ],
   "source": [
    "len(spikes_binned)"
   ]
  },
  {
   "cell_type": "code",
   "execution_count": 25,
   "id": "b54342d4",
   "metadata": {},
   "outputs": [
    {
     "name": "stdout",
     "output_type": "stream",
     "text": [
      "9471\n"
     ]
    }
   ],
   "source": [
    "lst=[]\n",
    "for j in range(1000):\n",
    "    lst.append(spikes_binned[j].shape[0])\n",
    "print(min(lst))"
   ]
  },
  {
   "cell_type": "code",
   "execution_count": 28,
   "id": "d5630f51",
   "metadata": {},
   "outputs": [],
   "source": [
    "spikes_binned=np.array(spikes_binned)"
   ]
  },
  {
   "cell_type": "code",
   "execution_count": 30,
   "id": "99b601ef",
   "metadata": {},
   "outputs": [
    {
     "name": "stdout",
     "output_type": "stream",
     "text": [
      "(9000,)\n"
     ]
    }
   ],
   "source": [
    "print(spikes_binned[0].shape)"
   ]
  },
  {
   "cell_type": "code",
   "execution_count": 31,
   "id": "5f363803",
   "metadata": {},
   "outputs": [],
   "source": [
    "lst=[]\n",
    "for j in range(1000):\n",
    "    lst.append(list(spikes_binned[j]))\n",
    "lst=np.array(lst)"
   ]
  },
  {
   "cell_type": "code",
   "execution_count": 32,
   "id": "c9502547",
   "metadata": {
    "scrolled": true
   },
   "outputs": [
    {
     "data": {
      "text/plain": [
       "(1000, 9000)"
      ]
     },
     "execution_count": 32,
     "metadata": {},
     "output_type": "execute_result"
    }
   ],
   "source": [
    "lst.shape"
   ]
  },
  {
   "cell_type": "code",
   "execution_count": 33,
   "id": "9d3a8d64",
   "metadata": {},
   "outputs": [],
   "source": [
    "spikes_binned=lst"
   ]
  },
  {
   "cell_type": "code",
   "execution_count": 34,
   "id": "355281a6",
   "metadata": {},
   "outputs": [],
   "source": [
    "rates=np.sum(spikes_binned,axis=1)/90"
   ]
  },
  {
   "cell_type": "code",
   "execution_count": 35,
   "id": "8420c9a3",
   "metadata": {},
   "outputs": [
    {
     "name": "stdout",
     "output_type": "stream",
     "text": [
      "[4.44444444e-02 6.11111111e-01 5.77777778e-01 1.10444444e+01\n",
      " 4.00000000e-01 1.16666667e+00 3.31111111e+00 5.77777778e-01\n",
      " 2.77777778e-01 3.22222222e+00 1.52222222e+00 5.35555556e+00\n",
      " 2.33333333e-01 4.33333333e-01 5.00000000e-01 4.88888889e-01\n",
      " 6.88888889e-01 7.77777778e-02 3.66666667e+00 2.86666667e+00\n",
      " 2.57777778e+00 8.88888889e-02 2.12222222e+00 3.33333333e-02\n",
      " 7.66666667e-01 8.88888889e-02 1.43333333e+00 2.22222222e+00\n",
      " 4.44444444e-01 4.44444444e-02 8.55555556e-01 6.33333333e-01\n",
      " 5.05555556e+00 1.61111111e+00 4.75555556e+00 2.55555556e-01\n",
      " 2.77777778e-01 8.18888889e+00 6.08888889e+00 6.33333333e-01\n",
      " 1.11111111e-02 4.36666667e+00 4.77777778e-01 3.36666667e+00\n",
      " 7.77777778e-02 2.64444444e+00 9.46666667e+00 3.14444444e+00\n",
      " 5.37777778e+00 5.66666667e-01 7.00000000e-01 6.44444444e-01\n",
      " 5.28888889e+00 8.38888889e+00 1.44444444e-01 9.44444444e-01\n",
      " 2.65555556e+00 5.88888889e-01 1.22222222e+00 7.77777778e-02\n",
      " 6.81111111e+00 6.44444444e-01 5.88888889e-01 1.67777778e+00\n",
      " 8.44444444e-01 8.11111111e-01 3.77777778e-01 1.33333333e-01\n",
      " 8.00000000e-01 1.44444444e-01 5.07777778e+00 3.33333333e-02\n",
      " 1.33333333e-01 2.23333333e+00 2.11111111e-01 3.33333333e-02\n",
      " 7.00000000e-01 8.33333333e-01 1.46666667e+00 4.42222222e+00\n",
      " 5.43333333e+00 7.77777778e-01 9.11111111e-01 6.33333333e-01\n",
      " 4.44444444e-01 1.17777778e+01 1.22000000e+01 2.95555556e+00\n",
      " 1.13333333e+00 1.18888889e+00 6.38888889e+00 2.35555556e+00\n",
      " 4.44444444e-02 1.33333333e-01 9.25555556e+00 1.91111111e+00\n",
      " 1.11111111e-01 4.55555556e-01 1.77777778e-01 8.88888889e-02\n",
      " 1.58888889e+00 4.70000000e+00 2.00000000e-01 1.26333333e+01\n",
      " 1.88888889e+00 1.53333333e+00 1.55555556e-01 6.60000000e+00\n",
      " 3.32222222e+00 3.33333333e-02 1.22222222e-01 7.44444444e-01\n",
      " 3.51111111e+00 3.42222222e+00 1.77777778e-01 8.08888889e+00\n",
      " 2.38888889e+00 2.22222222e-02 6.88888889e-01 1.20000000e+00\n",
      " 3.11111111e-01 1.01111111e+00 2.16666667e+00 5.11111111e-01\n",
      " 1.88888889e-01 1.77777778e-01 1.44444444e+00 4.61111111e+00\n",
      " 8.33333333e-01 6.22222222e-01 1.22222222e+00 4.44444444e-02\n",
      " 3.66666667e-01 1.31111111e+00 1.88888889e-01 2.88888889e-01\n",
      " 2.77777778e-01 3.17777778e+00 8.88888889e-01 7.77777778e-02\n",
      " 1.62222222e+00 0.00000000e+00 1.33333333e-01 1.11111111e-01\n",
      " 2.17777778e+00 4.88888889e+00 3.55555556e-01 1.41111111e+00\n",
      " 2.37777778e+00 1.11111111e-01 3.32222222e+00 1.41111111e+00\n",
      " 8.22222222e-01 4.00000000e-01 8.11111111e-01 1.11111111e-01\n",
      " 3.14444444e+00 7.11111111e+00 6.08888889e+00 1.63333333e+00\n",
      " 7.77777778e-01 4.44444444e-02 1.16666667e+00 2.24444444e+00\n",
      " 3.43333333e+00 4.83333333e+00 1.14444444e+00 2.03333333e+00\n",
      " 3.17777778e+00 6.44444444e-01 7.77777778e-01 9.55555556e-01\n",
      " 1.00000000e-01 2.88888889e-01 4.00000000e+00 3.22222222e-01\n",
      " 3.22222222e-01 7.66666667e-01 1.82222222e+00 1.88888889e-01\n",
      " 8.32222222e+00 2.07777778e+00 7.51111111e+00 2.27777778e+00\n",
      " 1.11111111e-02 3.26666667e+00 5.55555556e-01 3.22222222e-01\n",
      " 6.77777778e-01 1.90000000e+00 1.07777778e+00 6.66666667e-02\n",
      " 2.64444444e+00 1.05555556e+00 2.78888889e+00 2.64444444e+00\n",
      " 1.84444444e+00 9.77777778e-01 1.88888889e-01 5.55555556e-02\n",
      " 4.44444444e-01 3.66666667e-01 4.67777778e+00 3.55555556e-01\n",
      " 1.92222222e+00 4.84444444e+00 5.55555556e-01 1.88888889e-01\n",
      " 1.24444444e+00 1.11111111e-01 9.11111111e-01 8.77777778e-01\n",
      " 1.33333333e-01 4.55555556e-01 6.77777778e-01 3.00000000e-01\n",
      " 5.72222222e+00 1.84444444e+00 2.56666667e+00 5.32222222e+00\n",
      " 3.04444444e+00 4.65555556e+00 1.33333333e+00 2.55555556e+00\n",
      " 1.11111111e-02 8.77777778e-01 4.14444444e+00 2.15555556e+00\n",
      " 3.08888889e+00 1.84444444e+00 8.33333333e-01 1.26666667e+00\n",
      " 1.33333333e+00 1.11111111e-02 1.37777778e+00 5.66666667e-01\n",
      " 3.88888889e-01 1.50000000e+00 1.22222222e-01 5.66666667e-01\n",
      " 1.00000000e-01 4.44444444e-02 2.50000000e+00 7.11111111e-01\n",
      " 1.66666667e-01 2.85555556e+00 4.77777778e-01 4.66666667e-01\n",
      " 1.55555556e-01 9.44444444e-01 1.56666667e+00 6.66666667e-02\n",
      " 1.01111111e+00 7.87777778e+00 3.00000000e-01 6.66666667e-02\n",
      " 4.66666667e-01 1.33333333e-01 1.80000000e+00 2.50000000e+00\n",
      " 2.32222222e+00 1.10000000e+00 2.41111111e+00 1.01111111e+00\n",
      " 2.83333333e+00 4.44444444e-02 7.77777778e-02 5.55555556e-02\n",
      " 5.55555556e-01 5.66666667e-01 1.55555556e-01 9.44444444e-01\n",
      " 3.11111111e-01 2.68888889e+00 6.00000000e-01 7.33333333e-01\n",
      " 1.84444444e+00 1.33333333e-01 1.11111111e-02 3.33333333e-02\n",
      " 1.34444444e+00 1.22222222e-01 1.66666667e+00 1.88888889e+00\n",
      " 3.44444444e-01 2.11111111e-01 9.44444444e-01 1.88888889e-01\n",
      " 4.44444444e-01 2.33333333e-01 6.55555556e-01 5.55555556e-02\n",
      " 5.55555556e-02 5.77777778e-01 4.06666667e+00 1.03333333e+00\n",
      " 5.68888889e+00 5.48888889e+00 7.33333333e-01 1.16666667e+00\n",
      " 3.88888889e-01 6.66666667e-02 1.21555556e+01 8.44444444e-01\n",
      " 6.11111111e-01 1.57777778e+00 1.77777778e-01 1.88888889e-01\n",
      " 5.24444444e+00 2.96666667e+00 3.94444444e+00 1.78888889e+00\n",
      " 1.96666667e+00 1.11111111e-01 1.88888889e-01 1.94444444e+00\n",
      " 1.44444444e-01 5.55555556e-02 6.97777778e+00 5.44444444e-01\n",
      " 2.22222222e+00 3.00000000e+00 2.78888889e+00 2.44444444e-01\n",
      " 5.88888889e-01 6.55555556e+00 1.22222222e-01 0.00000000e+00\n",
      " 5.88888889e-01 3.14444444e+00 0.00000000e+00 3.22222222e-01\n",
      " 1.30000000e+00 4.66666667e-01 1.60000000e+00 7.44444444e-01\n",
      " 3.55555556e-01 3.20000000e+00 4.44444444e-02 1.07777778e+00\n",
      " 3.77777778e-01 1.68888889e+00 1.97777778e+00 9.44444444e-01\n",
      " 2.67777778e+00 2.67777778e+00 1.37222222e+01 1.11111111e-01\n",
      " 5.55555556e-02 3.55555556e-01 3.77777778e-01 2.22222222e-02\n",
      " 5.65555556e+00 4.44444444e-02 3.55555556e-01 8.44444444e-01\n",
      " 1.88888889e-01 1.55555556e-01 1.17777778e+00 1.11111111e-02\n",
      " 3.55555556e-01 3.48888889e+00 7.05555556e+00 2.45111111e+01\n",
      " 5.77777778e-01 8.88888889e-01 2.22222222e-02 2.66666667e-01\n",
      " 5.55555556e-01 3.44444444e-01 2.88888889e-01 2.71111111e+00\n",
      " 1.11111111e-02 1.77777778e-01 6.66666667e-02 6.55555556e-01\n",
      " 3.11111111e-01 4.44444444e-01 2.22222222e-01 1.11111111e-01\n",
      " 2.22222222e-02 5.00000000e-01 2.22222222e-02 1.11111111e-02\n",
      " 2.87777778e+00 1.55555556e-01 2.55555556e-01 6.33333333e-01\n",
      " 5.88888889e-01 3.33333333e-01 5.54444444e+00 6.33333333e-01\n",
      " 1.55555556e-01 8.88888889e-01 1.13333333e+00 1.76666667e+00\n",
      " 2.88888889e-01 1.00000000e-01 7.00000000e-01 3.00000000e-01\n",
      " 8.98888889e+00 4.67777778e+00 6.91111111e+00 1.43333333e+00\n",
      " 5.88888889e-01 6.77777778e-01 4.77777778e-01 6.94444444e+00\n",
      " 1.11111111e-02 4.88888889e-01 4.44444444e-02 4.82222222e+00\n",
      " 7.77777778e-02 4.44444444e-02 5.55555556e-02 1.96666667e+00\n",
      " 5.03333333e+00 1.88888889e-01 6.88888889e-01 9.55555556e-01\n",
      " 1.44444444e-01 6.11111111e-01 1.88888889e-01 3.80000000e+00\n",
      " 2.83333333e+00 0.00000000e+00 2.22222222e-02 1.33333333e-01\n",
      " 1.36666667e+00 1.86666667e+00 4.22222222e-01 1.51111111e+00\n",
      " 6.44444444e-01 1.55555556e-01 1.65555556e+00 4.00000000e-01\n",
      " 2.55555556e-01 2.38888889e+00 8.66666667e-01 5.55555556e-02\n",
      " 0.00000000e+00 1.76666667e+00 5.47777778e+00 3.33333333e-02\n",
      " 1.95555556e+00 2.61111111e+00 1.01111111e+00 1.11111111e-02\n",
      " 1.14555556e+01 5.22222222e-01 0.00000000e+00 1.11111111e-02\n",
      " 1.12222222e+00 0.00000000e+00 1.66666667e+00 7.77777778e-02\n",
      " 4.13666667e+01 1.11111111e-02 6.55555556e-01 5.77777778e+00\n",
      " 1.11111111e-02 3.55555556e-01 4.66666667e-01 1.16666667e+00\n",
      " 4.75555556e+00 0.00000000e+00 1.34444444e+00 3.55555556e-01\n",
      " 1.88888889e-01 2.02222222e+00 3.71111111e+00 5.55555556e-02\n",
      " 3.22222222e-01 2.22222222e-02 2.48888889e+00 1.44444444e-01\n",
      " 5.22222222e-01 6.66666667e-01 3.24444444e+00 0.00000000e+00\n",
      " 1.55555556e+00 1.11111111e-01 9.33333333e-01 1.54444444e+00\n",
      " 3.67777778e+00 2.27222222e+01 7.00000000e-01 2.81111111e+00\n",
      " 1.11111111e-02 1.00000000e-01 2.66666667e-01 3.23333333e+00\n",
      " 1.44444444e-01 1.36666667e+00 1.22222222e-01 8.88888889e-02\n",
      " 2.03333333e+00 2.07777778e+00 4.98888889e+00 1.06666667e+00\n",
      " 0.00000000e+00 0.00000000e+00 4.44444444e-02 1.28333333e+01\n",
      " 3.11111111e-01 1.44444444e-01 2.35555556e+00 0.00000000e+00\n",
      " 1.11111111e+00 4.34444444e+00 3.77777778e+00 3.66666667e-01\n",
      " 1.43333333e+00 1.11111111e+00 3.33333333e-02 3.22222222e-01\n",
      " 6.11111111e+00 1.11111111e-02 3.95555556e+00 7.88888889e-01\n",
      " 0.00000000e+00 4.54444444e+00 5.02222222e+00 1.82222222e+00\n",
      " 5.44444444e-01 7.77777778e-02 1.93666667e+01 1.07777778e+00\n",
      " 3.05555556e+00 1.06666667e+00 2.22222222e-02 1.44444444e-01\n",
      " 7.88888889e-01 5.10000000e+00 7.66666667e-01 4.41111111e+00\n",
      " 1.00000000e-01 2.55555556e+00 2.28888889e+00 4.92222222e+00\n",
      " 1.55555556e+00 1.11111111e-02 1.11111111e-01 3.88888889e-01\n",
      " 2.22222222e-02 3.81111111e+00 5.08888889e+00 6.00000000e+00\n",
      " 2.12222222e+00 3.02222222e+00 5.11111111e-01 6.33333333e-01\n",
      " 1.42222222e+00 8.55555556e-01 3.56666667e+00 8.14444444e+00\n",
      " 1.11111111e-02 1.11555556e+01 0.00000000e+00 0.00000000e+00\n",
      " 5.78888889e+00 6.66666667e-02 4.17777778e+00 8.55555556e+00\n",
      " 6.00000000e-01 1.11111111e-01 4.70000000e+00 2.45555556e+00\n",
      " 7.22222222e-01 1.03333333e+01 5.40000000e+00 3.22222222e-01\n",
      " 1.64444444e+00 1.11111111e-01 4.28888889e+00 3.13333333e+00\n",
      " 2.00000000e-01 4.00000000e-01 1.44444444e-01 0.00000000e+00\n",
      " 3.25555556e+00 1.33333333e+00 1.34444444e+00 2.40000000e+00\n",
      " 0.00000000e+00 0.00000000e+00 1.14222222e+01 1.16666667e+00\n",
      " 4.88888889e-01 8.44444444e-01 2.75555556e+00 2.06666667e+00\n",
      " 1.25555556e+00 0.00000000e+00 1.15555556e+00 1.44444444e-01\n",
      " 1.11111111e-01 1.04444444e+00 1.17777778e+00 8.22222222e-01\n",
      " 0.00000000e+00 1.76555556e+01 0.00000000e+00 2.27777778e+00\n",
      " 0.00000000e+00 1.34444444e+00 0.00000000e+00 3.44444444e+00\n",
      " 1.48888889e+00 1.06888889e+01 6.66666667e-02 1.75777778e+01\n",
      " 1.08888889e+00 1.08888889e+00 2.71111111e+00 4.88888889e-01\n",
      " 3.33333333e-01 1.88888889e+00 3.11111111e-01 0.00000000e+00\n",
      " 1.80222222e+01 3.88888889e-01 5.21111111e+00 3.33333333e-02\n",
      " 5.22222222e-01 1.93333333e+00 3.11111111e-01 9.22222222e-01\n",
      " 3.28888889e+00 1.80000000e+00 1.77777778e-01 1.11111111e-01\n",
      " 6.66666667e-02 2.74444444e+00 1.24444444e+00 2.77777778e-01\n",
      " 1.96666667e+00 2.44444444e-01 4.44444444e+00 9.08888889e+00\n",
      " 1.71111111e+00 1.44444444e-01 1.44444444e-01 7.33333333e-01\n",
      " 5.33333333e-01 1.02222222e+00 3.33333333e-02 6.66666667e-02\n",
      " 3.94444444e+00 1.15777778e+01 2.78888889e+00 4.40000000e+00\n",
      " 6.66666667e-02 5.44444444e-01 1.66666667e-01 4.81111111e+00\n",
      " 0.00000000e+00 1.47777778e+00 8.68888889e+00 1.73333333e+00\n",
      " 0.00000000e+00 2.58888889e+00 6.66666667e-02 8.88888889e-01\n",
      " 4.93333333e+00 2.55555556e-01 7.93333333e+00 4.55555556e+00\n",
      " 1.26666667e+00 2.56666667e+00 1.38888889e+00 5.12222222e+00\n",
      " 7.77777778e-02 4.97777778e+00 8.44444444e-01 7.03333333e+00\n",
      " 2.66666667e-01 8.88888889e-02 2.45000000e+01 9.11111111e-01\n",
      " 5.88888889e-01 8.67777778e+00 1.13111111e+01 3.78555556e+01\n",
      " 1.03333333e+00 1.93333333e+00 4.67777778e+00 3.41111111e+00\n",
      " 2.40000000e+00 2.22222222e-02 7.43333333e+00 2.28888889e+00\n",
      " 6.33333333e-01 2.44444444e-01 4.55555556e+00 1.27777778e+00\n",
      " 0.00000000e+00 9.00000000e-01 5.55555556e-02 1.07777778e+00\n",
      " 5.22222222e-01 5.22222222e-01 1.11888889e+01 2.44444444e-01\n",
      " 5.88888889e-01 0.00000000e+00 1.72666667e+01 0.00000000e+00\n",
      " 3.11111111e-01 1.31111111e+00 0.00000000e+00 7.07777778e+00\n",
      " 3.54444444e+00 5.55555556e-02 2.22222222e-02 7.77777778e-02\n",
      " 2.30444444e+01 5.55555556e-02 1.39666667e+01 2.04444444e+00\n",
      " 2.92222222e+00 7.44444444e-01 3.33333333e-02 4.23333333e+00\n",
      " 3.44444444e+00 3.43333333e+00 4.44444444e-02 0.00000000e+00\n",
      " 5.55555556e-02 3.55555556e-01 8.22222222e-01 1.44444444e-01\n",
      " 2.51111111e+00 0.00000000e+00 4.11111111e-01 0.00000000e+00\n",
      " 7.63333333e+00 2.88888889e-01 8.88888889e-01 1.73333333e+00\n",
      " 1.28888889e+00 0.00000000e+00 5.27777778e+00 0.00000000e+00\n",
      " 1.17777778e+00 1.32222222e+01 0.00000000e+00 1.67555556e+01\n",
      " 7.91111111e+00 1.11111111e-02 1.11111111e-02 3.10000000e+00\n",
      " 4.44444444e-02 1.00000000e-01 1.42222222e+00 1.22222222e-01\n",
      " 5.90000000e+00 2.61111111e+00 2.44444444e-01 1.11111111e-01\n",
      " 2.22222222e-02 2.11111111e-01 5.55555556e-02 1.47111111e+01\n",
      " 2.88888889e-01 1.44444444e-01 6.33333333e-01 6.88888889e-01\n",
      " 0.00000000e+00 1.37777778e+00 1.82222222e+00 0.00000000e+00\n",
      " 6.66666667e-02 3.77777778e-01 7.54444444e+00 5.88888889e-01\n",
      " 5.01111111e+00 6.27777778e+00 1.46666667e+00 1.16666667e+00\n",
      " 4.44444444e-02 1.04444444e+00 1.53333333e+01 1.83333333e+00\n",
      " 1.11000000e+01 7.22222222e-01 1.24444444e+00 4.17777778e+00\n",
      " 5.55555556e-02 2.95555556e+00 5.55555556e-01 1.62222222e+00\n",
      " 1.11111111e-02 6.10000000e+00 2.04444444e+00 2.22222222e-02\n",
      " 3.33333333e-02 5.12222222e+00 1.24444444e+00 3.77777778e-01\n",
      " 5.80000000e+00 7.10000000e+00 8.88888889e-02 4.44444444e-02\n",
      " 7.77777778e-01 8.66666667e-01 1.94444444e+00 4.52222222e+00\n",
      " 1.18222222e+01 2.32222222e+00 1.62222222e+00 3.93333333e+00\n",
      " 2.22222222e-01 8.73333333e+00 5.17777778e+00 6.66666667e-02\n",
      " 3.33333333e-02 1.66666667e-01 8.41111111e+00 4.88888889e-01\n",
      " 1.14444444e+00 1.88888889e-01 1.11111111e-02 1.11111111e-02\n",
      " 8.66666667e-01 6.64444444e+00 4.97777778e+00 6.66666667e-02\n",
      " 4.44444444e-02 0.00000000e+00 3.33333333e-01 3.68888889e+00\n",
      " 6.11111111e-01 1.44444444e-01 1.66666667e-01 7.00000000e-01\n",
      " 6.66666667e-01 1.05555556e+00 1.11111111e-02 5.77777778e-01\n",
      " 4.51111111e+00 4.55555556e-01 4.44444444e-02 3.88888889e-01\n",
      " 1.04777778e+01 0.00000000e+00 3.57777778e+00 1.11111111e-02\n",
      " 5.20000000e+00 3.44444444e-01 5.75555556e+00 1.87777778e+00\n",
      " 2.44444444e-01 3.24888889e+01 1.00222222e+01 3.00000000e-01\n",
      " 3.33333333e-02 8.55555556e-01 1.54444444e+00 2.27777778e+00\n",
      " 1.36666667e+01 1.34444444e+00 4.44444444e-02 5.37777778e+00\n",
      " 1.75555556e+00 3.33333333e-02 6.00000000e-01 1.90000000e+00\n",
      " 8.33333333e+00 2.11111111e+00 1.11111111e-02 2.00111111e+01\n",
      " 2.00000000e-01 0.00000000e+00 1.44444444e-01 1.44444444e-01\n",
      " 0.00000000e+00 1.11111111e-02 2.50000000e+00 1.52111111e+01\n",
      " 2.93333333e+00 2.88888889e-01 4.21111111e+00 6.64444444e+00\n",
      " 2.82222222e+00 0.00000000e+00 9.18888889e+00 6.66666667e-02\n",
      " 4.44444444e-02 2.44444444e-01 3.38888889e+00 6.31111111e+00\n",
      " 7.77777778e-01 5.14444444e+00 1.66666667e+00 1.19888889e+01\n",
      " 1.55555556e-01 6.33333333e-01 6.66666667e-02 1.60000000e+00\n",
      " 1.90000000e+00 1.58888889e+00 1.11111111e-02 3.33333333e-02\n",
      " 1.11111111e-01 1.20000000e+00 3.88888889e-01 2.65555556e+00\n",
      " 2.03333333e+00 5.85555556e+00 5.43333333e+00 1.56000000e+01\n",
      " 6.66666667e-02 1.42222222e+00 2.54444444e+00 0.00000000e+00\n",
      " 4.03333333e+00 3.33333333e-02 3.33333333e-02 8.88888889e-02\n",
      " 4.00000000e-01 2.23444444e+01 1.11111111e-02 5.28888889e+00\n",
      " 1.33333333e-01 4.36666667e+00 4.55555556e-01 3.00000000e-01\n",
      " 1.83333333e+00 1.08333333e+01 4.00000000e+00 4.12222222e+00\n",
      " 7.44444444e-01 2.22222222e-02 9.00000000e-01 2.98888889e+00\n",
      " 1.17888889e+01 1.10000000e+00 2.92222222e+00 4.44444444e-02\n",
      " 5.41111111e+00 1.21111111e+00 1.46666667e+00 5.22222222e-01\n",
      " 2.21111111e+00 1.22222222e-01 3.33333333e-02 1.07777778e+00\n",
      " 7.11111111e-01 1.11111111e-02 2.33333333e-01 1.77777778e+00\n",
      " 1.00777778e+01 1.00000000e-01 5.15555556e+00 4.44444444e-01\n",
      " 2.07777778e+00 2.73000000e+01 1.15555556e+00 1.50000000e+00\n",
      " 6.58888889e+00 1.66666667e-01 2.83333333e+00 8.22222222e-01\n",
      " 3.66666667e-01 3.88888889e-01 1.06666667e+00 2.14444444e+00\n",
      " 3.34444444e+00 6.66666667e-02 0.00000000e+00 0.00000000e+00\n",
      " 1.33333333e-01 2.01111111e+00 2.61111111e+00 1.42222222e+00\n",
      " 1.11111111e-02 1.00000000e-01 1.34444444e+00 3.33333333e-02\n",
      " 3.33333333e-02 5.00000000e-01 7.44444444e-01 1.44444444e-01\n",
      " 2.22222222e-02 3.32222222e+00 1.88888889e-01 5.22222222e-01\n",
      " 3.33333333e-02 1.18888889e+00 6.66666667e-02 1.11111111e-02\n",
      " 4.77777778e-01 9.11111111e-01 8.76666667e+00 1.24444444e+00\n",
      " 2.00000000e-01 6.11111111e-01 3.88888889e-01 5.55555556e-01]\n"
     ]
    }
   ],
   "source": [
    "print(rates)"
   ]
  },
  {
   "cell_type": "code",
   "execution_count": 37,
   "id": "3e510f9a",
   "metadata": {
    "scrolled": false
   },
   "outputs": [
    {
     "name": "stderr",
     "output_type": "stream",
     "text": [
      "INFO       No numerical integration method specified for group 'neurongroup_1', using method 'euler' (took 0.03s, trying other methods took 0.03s). [brian2.stateupdaters.base.method_choice]\n",
      "WARNING    \"rates\" is an internal variable of group \"poissongroup\", but also exists in the run namespace with the value array([0.04444444, 0.61111111, 0.57777778, ..., 0.61111111, 0.38888889,\n",
      "       0.55555556]). The internal variable will be used. [brian2.groups.group.Group.resolve.resolution_conflict]\n"
     ]
    },
    {
     "name": "stdout",
     "output_type": "stream",
     "text": [
      "470.39926624298096\n"
     ]
    }
   ],
   "source": [
    "start=time.time()\n",
    "simulation_clock=Clock(dt = 0.1*ms)\n",
    "defaultclock.dt = 0.1*ms\n",
    "tau = 10*ms\n",
    "vr = -70*mV\n",
    "vt = -60*mV\n",
    "eqs = '''\n",
    "dv/dt = I_ampa/Cm : volt\n",
    "I_ampa=-g_ext_ampa*s_ext*(v-E_ampa) : amp\n",
    "ds_ext/dt=-s_ext/t_ampa : 1\n",
    "'''\n",
    "t_ampa=2*ms\n",
    "Cm= 0.5*nF\n",
    "E_ampa=0.0*mV\n",
    "g_ext_ampa=3.1*nS\n",
    "neuron = NeuronGroup(100, eqs, threshold='v>vt', reset='v=vr')\n",
    "neuron.v = E_ampa\n",
    "neuron.s_ext = 0\n",
    "spikes_gen=PoissonGroup(1000,rates=rates*Hz)\n",
    "w = 1\n",
    "S = Synapses(spikes_gen, neuron, on_pre='s_ext += w')\n",
    "S.connect(p=0.1)\n",
    "# Record the spikes\n",
    "Mgp = SpikeMonitor(neuron)\n",
    "Minput = SpikeMonitor(spikes_gen)\n",
    "pop=PopulationRateMonitor(spikes_gen)\n",
    "I_ampa_lst_poisson=[]\n",
    "@network_operation(simulation_clock,when='start')\n",
    "def update_nmda(simulation_clock):\n",
    "    I_ampa=np.sum(neuron.I_ampa[:])\n",
    "    I_ampa_lst_poisson.append(I_ampa)\n",
    "duration=10000*ms\n",
    "run(duration)\n",
    "end=time.time()\n",
    "print(end-start)"
   ]
  },
  {
   "cell_type": "code",
   "execution_count": 38,
   "id": "400deedd",
   "metadata": {},
   "outputs": [
    {
     "data": {
      "image/png": "[encoded data removed]",
      "text/plain": [
       "<Figure size 432x288 with 1 Axes>"
      ]
     },
     "metadata": {
      "needs_background": "light"
     },
     "output_type": "display_data"
    },
    {
     "data": {
      "image/png": "[encoded data removed]",
      "text/plain": [
       "<Figure size 432x288 with 1 Axes>"
      ]
     },
     "metadata": {
      "needs_background": "light"
     },
     "output_type": "display_data"
    },
    {
     "data": {
      "text/plain": [
       "[<matplotlib.lines.Line2D at 0x7fefbebf1210>]"
      ]
     },
     "execution_count": 38,
     "metadata": {},
     "output_type": "execute_result"
    },
    {
     "data": {
      "image/png": "[encoded data removed]",
      "text/plain": [
       "<Figure size 432x288 with 1 Axes>"
      ]
     },
     "metadata": {
      "needs_background": "light"
     },
     "output_type": "display_data"
    }
   ],
   "source": [
    "plot(Mgp.t[4000:6000]/ms, Mgp.i[4000:6000], '.')\n",
    "plt.show()\n",
    "plot(Minput.t[4000:6000]/ms,Minput.i[4000:6000],'.')\n",
    "plt.show()\n",
    "plot(pop.t/ms, pop.rate/Hz)"
   ]
  },
  {
   "cell_type": "code",
   "execution_count": 39,
   "id": "35413282",
   "metadata": {},
   "outputs": [],
   "source": [
    "np.save('Mgpt_poisson_rate_matched.npy',Mgp.t)\n",
    "np.save('Mgpi_poisson_rate_matched.npy',Mgp.i)\n",
    "np.save('I_ampa_poisson_rate_matched.npy',I_ampa_lst_poisson)"
   ]
  }
 ],
 "metadata": {
  "kernelspec": {
   "display_name": "Python 3",
   "language": "python",
   "name": "python3"
  },
  "language_info": {
   "codemirror_mode": {
    "name": "ipython",
    "version": 3
   },
   "file_extension": ".py",
   "mimetype": "text/x-python",
   "name": "python",
   "nbconvert_exporter": "python",
   "pygments_lexer": "ipython3",
   "version": "3.7.10"
  }
 },
 "nbformat": 4,
 "nbformat_minor": 5
}
