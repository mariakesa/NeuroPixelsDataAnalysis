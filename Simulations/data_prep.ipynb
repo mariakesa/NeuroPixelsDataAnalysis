{
 "cells": [
  {
   "cell_type": "code",
   "execution_count": 5,
   "id": "7e23e295",
   "metadata": {},
   "outputs": [],
   "source": [
    "from brian2 import *\n",
    "import numpy as np\n",
    "import matplotlib.pyplot as plt\n",
    "%matplotlib inline\n",
    "import os"
   ]
  },
  {
   "cell_type": "code",
   "execution_count": 6,
   "id": "f1f99a82",
   "metadata": {},
   "outputs": [],
   "source": [
    "def sort_into_cells(spike_times,clusters_annotation,spike_clusters):\n",
    "    spike_time_cells = np.empty(len(clusters_annotation), dtype=object) # Initalise empty object\n",
    "    for i in (np.arange(len(np.unique(spike_clusters)))):\n",
    "      # Create a spike time arrays, where each array in the array is a spike time of a cell\n",
    "      spike_time_cells[i] = spike_times[(np.where(spike_clusters == i)[0])]\n",
    "    return spike_time_cells\n",
    "def join(path):\n",
    "    dirs=os.listdir(path)\n",
    "    arr=[]\n",
    "    for d in dirs[:8]:\n",
    "        data_path=os.path.join(path,d)\n",
    "        spike_times = np.load(data_path+'/'+'spikes.times.npy')*1000 # Unbinned spike times in ms\n",
    "        clusters_annotation = np.load(data_path+'/'+'clusters._phy_annotation.npy')\n",
    "        spike_clusters = np.load(data_path+'/'+'spikes.clusters.npy')\n",
    "        spks=sort_into_cells(spike_times,clusters_annotation,spike_clusters)\n",
    "        for a in spks:\n",
    "            arr.append(a)\n",
    "    return arr\n",
    "\n",
    "def sv(sv_path,arr):\n",
    "    np.save(sv_path,arr)\n",
    "    \n",
    "def proc(sv_path,path):\n",
    "    arr=join(path)\n",
    "    sv(sv_path,arr)\n",
    "        "
   ]
  },
  {
   "cell_type": "code",
   "execution_count": 7,
   "id": "6e11fed3",
   "metadata": {},
   "outputs": [],
   "source": [
    "path='/media/maria/DATA1/Documents/NeuroMatchAcademy2020_dat/unzipped_files/'\n",
    "sv_path='/media/maria/DATA1/Documents/NeuroMatchAcademy2020_dat/all_spikes.npy'"
   ]
  },
  {
   "cell_type": "code",
   "execution_count": 6,
   "id": "ea0e3ec7",
   "metadata": {
    "scrolled": true
   },
   "outputs": [
    {
     "name": "stderr",
     "output_type": "stream",
     "text": [
      "WARNING    /home/maria/anaconda3/lib/python3.7/site-packages/numpy/core/_asarray.py:171: VisibleDeprecationWarning: Creating an ndarray from ragged nested sequences (which is a list-or-tuple of lists-or-tuples-or ndarrays with different lengths or shapes) is deprecated. If you meant to do this, you must specify 'dtype=object' when creating the ndarray.\n",
      "  return array(a, dtype, copy=False, order=order, subok=True)\n",
      " [py.warnings]\n"
     ]
    }
   ],
   "source": [
    "proc(sv_path,path)"
   ]
  },
  {
   "cell_type": "code",
   "execution_count": 8,
   "id": "054955a2",
   "metadata": {},
   "outputs": [],
   "source": [
    "def for_spike_generator(spike_time_cells):\n",
    "    spikes=[]\n",
    "    cell_identity=[]\n",
    "    for cell_ind in range(spike_time_cells.shape[0]):\n",
    "        diff=np.append(np.diff(spike_time_cells[cell_ind].flatten()),0.2)\n",
    "        spks=spike_time_cells[cell_ind][diff>0.5].flatten()\n",
    "        for spk in list(spks):\n",
    "            spikes.append(spk*ms)\n",
    "            cell_identity.append(cell_ind)\n",
    "    inds=np.argsort(spikes)\n",
    "    spikes=np.array(spikes)[inds]\n",
    "    cell_identity=np.array(cell_identity)[inds]\n",
    "    return spikes, cell_identity\n",
    "\n",
    "def proc2(sv_path):\n",
    "    spike_time_cells=np.load(sv_path,allow_pickle=True)[:1000]\n",
    "    spikes, cell_identity=for_spike_generator(spike_time_cells)\n",
    "    np.save('/media/maria/DATA1/Documents/NeuroMatchAcademy2020_dat/spk_arr.npy',spikes)\n",
    "    np.save('/media/maria/DATA1/Documents/NeuroMatchAcademy2020_dat/cell_identity.npy',cell_identity)"
   ]
  },
  {
   "cell_type": "code",
   "execution_count": 9,
   "id": "b3357ad4",
   "metadata": {},
   "outputs": [],
   "source": [
    "proc2(sv_path)"
   ]
  },
  {
   "cell_type": "code",
   "execution_count": 3,
   "id": "7337b6f2",
   "metadata": {},
   "outputs": [],
   "source": [
    "spike_time_cells=np.load(sv_path,allow_pickle=True)"
   ]
  },
  {
   "cell_type": "code",
   "execution_count": 4,
   "id": "c48ce7f8",
   "metadata": {},
   "outputs": [
    {
     "data": {
      "text/plain": [
       "(10403,)"
      ]
     },
     "execution_count": 4,
     "metadata": {},
     "output_type": "execute_result"
    }
   ],
   "source": [
    "spike_time_cells.shape"
   ]
  }
 ],
 "metadata": {
  "kernelspec": {
   "display_name": "Python 3",
   "language": "python",
   "name": "python3"
  },
  "language_info": {
   "codemirror_mode": {
    "name": "ipython",
    "version": 3
   },
   "file_extension": ".py",
   "mimetype": "text/x-python",
   "name": "python",
   "nbconvert_exporter": "python",
   "pygments_lexer": "ipython3",
   "version": "3.7.10"
  }
 },
 "nbformat": 4,
 "nbformat_minor": 5
}
