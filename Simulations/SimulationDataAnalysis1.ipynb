{
 "cells": [
  {
   "cell_type": "code",
   "execution_count": 2,
   "id": "8f5d100d",
   "metadata": {},
   "outputs": [],
   "source": [
    "import numpy as np\n",
    "import matplotlib.pyplot as plt\n",
    "from sklearn.decomposition import PCA"
   ]
  },
  {
   "cell_type": "code",
   "execution_count": 3,
   "id": "5e6274b8",
   "metadata": {},
   "outputs": [],
   "source": [
    "I_ampa_poisson=np.load('I_ampa_poisson.npy',allow_pickle=True)\n",
    "I_ampa=np.load('I_ampa.npy',allow_pickle=True)"
   ]
  },
  {
   "cell_type": "code",
   "execution_count": 10,
   "id": "a076b4ad",
   "metadata": {},
   "outputs": [
    {
     "data": {
      "text/plain": [
       "[<matplotlib.lines.Line2D at 0x7f84783cd5d0>]"
      ]
     },
     "execution_count": 10,
     "metadata": {},
     "output_type": "execute_result"
    },
    {
     "data": {
      "image/png": "[encoded data removed]",
      "text/plain": [
       "<Figure size 432x288 with 1 Axes>"
      ]
     },
     "metadata": {
      "needs_background": "light"
     },
     "output_type": "display_data"
    }
   ],
   "source": [
    "ps = np.abs(np.fft.fft(I_ampa_poisson))**2\n",
    "\n",
    "time_step = 1 / 10\n",
    "freqs = np.fft.fftfreq(I_ampa_poisson.size, time_step)\n",
    "idx = np.argsort(freqs)\n",
    "ps[0]=0\n",
    "plt.plot(freqs[idx], ps[idx])"
   ]
  },
  {
   "cell_type": "code",
   "execution_count": 11,
   "id": "b2912f13",
   "metadata": {},
   "outputs": [
    {
     "data": {
      "text/plain": [
       "[<matplotlib.lines.Line2D at 0x7f8478346d10>]"
      ]
     },
     "execution_count": 11,
     "metadata": {},
     "output_type": "execute_result"
    },
    {
     "data": {
      "image/png": "[encoded data removed]",
      "text/plain": [
       "<Figure size 432x288 with 1 Axes>"
      ]
     },
     "metadata": {
      "needs_background": "light"
     },
     "output_type": "display_data"
    }
   ],
   "source": [
    "ps = np.abs(np.fft.fft(I_ampa))**2\n",
    "\n",
    "time_step = 1 / 10\n",
    "freqs = np.fft.fftfreq(I_ampa_poisson.size, time_step)\n",
    "idx = np.argsort(freqs)\n",
    "ps[0]=0\n",
    "\n",
    "plt.plot(freqs[idx], ps[idx])"
   ]
  }
 ],
 "metadata": {
  "kernelspec": {
   "display_name": "Python 3",
   "language": "python",
   "name": "python3"
  },
  "language_info": {
   "codemirror_mode": {
    "name": "ipython",
    "version": 3
   },
   "file_extension": ".py",
   "mimetype": "text/x-python",
   "name": "python",
   "nbconvert_exporter": "python",
   "pygments_lexer": "ipython3",
   "version": "3.7.10"
  }
 },
 "nbformat": 4,
 "nbformat_minor": 5
}
