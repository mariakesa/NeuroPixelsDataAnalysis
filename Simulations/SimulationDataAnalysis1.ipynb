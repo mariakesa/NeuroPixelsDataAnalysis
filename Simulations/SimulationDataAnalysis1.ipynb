{
 "cells": [
  {
   "cell_type": "code",
   "execution_count": 2,
   "id": "a6bd1238",
   "metadata": {},
   "outputs": [],
   "source": [
    "import numpy as np\n",
    "import matplotlib.pyplot as plt\n",
    "from sklearn.decomposition import PCA"
   ]
  },
  {
   "cell_type": "code",
   "execution_count": 3,
   "id": "6f2f32b4",
   "metadata": {},
   "outputs": [],
   "source": [
    "I_ampa_poisson=np.load('I_ampa_poisson.npy',allow_pickle=True)\n",
    "I_ampa=np.load('I_ampa.npy',allow_pickle=True)"
   ]
  },
  {
   "cell_type": "code",
   "execution_count": 10,
   "id": "60cda171",
   "metadata": {},
   "outputs": [
    {
     "data": {
      "text/plain": [
       "[<matplotlib.lines.Line2D at 0x7f84783cd5d0>]"
      ]
     },
     "execution_count": 10,
     "metadata": {},
     "output_type": "execute_result"
    },
    {
     "data": {
      "image/png": "[encoded data removed]",
      "text/plain": [
       "<Figure size 432x288 with 1 Axes>"
      ]
     },
     "metadata": {
      "needs_background": "light"
     },
     "output_type": "display_data"
    }
   ],
   "source": [
    "ps = np.abs(np.fft.fft(I_ampa_poisson))**2\n",
    "\n",
    "time_step = 1 / 10\n",
    "freqs = np.fft.fftfreq(I_ampa_poisson.size, time_step)\n",
    "idx = np.argsort(freqs)\n",
    "ps[0]=0\n",
    "plt.plot(freqs[idx], ps[idx])"
   ]
  },
  {
   "cell_type": "code",
   "execution_count": 11,
   "id": "4b404eb4",
   "metadata": {
    "scrolled": true
   },
   "outputs": [
    {
     "data": {
      "text/plain": [
       "[<matplotlib.lines.Line2D at 0x7f8478346d10>]"
      ]
     },
     "execution_count": 11,
     "metadata": {},
     "output_type": "execute_result"
    },
    {
     "data": {
      "image/png": "[encoded data removed]",
      "text/plain": [
       "<Figure size 432x288 with 1 Axes>"
      ]
     },
     "metadata": {
      "needs_background": "light"
     },
     "output_type": "display_data"
    }
   ],
   "source": [
    "ps = np.abs(np.fft.fft(I_ampa))**2\n",
    "\n",
    "time_step = 1 / 10\n",
    "freqs = np.fft.fftfreq(I_ampa_poisson.size, time_step)\n",
    "idx = np.argsort(freqs)\n",
    "ps[0]=0\n",
    "\n",
    "plt.plot(freqs[idx], ps[idx])"
   ]
  },
  {
   "cell_type": "code",
   "execution_count": 12,
   "id": "efc34734",
   "metadata": {},
   "outputs": [],
   "source": [
    "def bin_spikes(spike_times,spike_clusters, bin_size = 10):\n",
    "\n",
    "    # Using clusters._phy_annotation.npy obtain valid clusters (i.e. >= 2)\n",
    "    # valid_clusters_idx = np.array(np.where(clusters_annotation>=2))[0]\n",
    "\n",
    "    spike_time_cells = np.empty(100, dtype=object) # Initalise empty object\n",
    "    for i in (np.arange(len(np.unique(spike_clusters)))):\n",
    "      # Create a spike time arrays, where each array in the array is a spike time of a cell\n",
    "      spike_time_cells[i] = spike_times[(np.where(spike_clusters == i)[0])]\n",
    "\n",
    "    # Bin spike times into 10ms intervals\n",
    "    spike_time_binned = np.empty(len(np.unique(spike_clusters)), dtype=object) # Initalise empty object\n",
    "    sum_spikes = np.empty(len(np.unique(spike_clusters)), dtype=object) # Initalise empty object\n",
    "\n",
    "    for cell_num in np.arange(len(spike_time_cells)):\n",
    "        spike_time_hist = np.histogram(spike_time_cells[cell_num],bins = np.arange(0,np.floor(spike_time_cells[cell_num][-1]),bin_size))\n",
    "        spike_time_binned[cell_num] = spike_time_hist[0]\n",
    "        sum_spikes[cell_num] = np.sum(spike_time_binned[cell_num])\n",
    "\n",
    "    cell_spikes_max = np.argmax(sum_spikes) # cell with the maximum number of spikes for plotting purposes\n",
    "    # Spike_time_binned returns binned spikes sorted into cells\n",
    "    # Spike_time_cells returns UNbinned spikes sorted into cells\n",
    "    # cell_spikes_max returns a single cell index that has the max number of spikes (i.e most active cell)\n",
    "    return spike_time_binned, spike_time_cells, cell_spikes_max"
   ]
  },
  {
   "cell_type": "code",
   "execution_count": 20,
   "id": "52f0736e",
   "metadata": {},
   "outputs": [],
   "source": [
    "spks=np.load('Mgpt.npy')*1000\n",
    "spk_clusters=np.load('Mgpi.npy')"
   ]
  },
  {
   "cell_type": "code",
   "execution_count": 21,
   "id": "86fb5cc6",
   "metadata": {},
   "outputs": [
    {
     "name": "stdout",
     "output_type": "stream",
     "text": [
      "[   0.     0.     0.  ... 9989.4 9997.3 9997.8]\n"
     ]
    }
   ],
   "source": [
    "print(spks)"
   ]
  },
  {
   "cell_type": "code",
   "execution_count": 58,
   "id": "4dced98d",
   "metadata": {},
   "outputs": [],
   "source": [
    "spike_time_binned, spike_time_cells, cell_spikes_max= bin_spikes(spks,spk_clusters, bin_size = 10)"
   ]
  },
  {
   "cell_type": "code",
   "execution_count": 65,
   "id": "2bb11e4e",
   "metadata": {
    "scrolled": true
   },
   "outputs": [
    {
     "data": {
      "text/plain": [
       "(997,)"
      ]
     },
     "execution_count": 65,
     "metadata": {},
     "output_type": "execute_result"
    }
   ],
   "source": [
    "spike_time_binned[1].shape"
   ]
  },
  {
   "cell_type": "code",
   "execution_count": 66,
   "id": "53efc186",
   "metadata": {},
   "outputs": [],
   "source": [
    "def convert_for_pca(binned_spikes):\n",
    "    spk_arr=[]\n",
    "    for j in range(binned_spikes.shape[0]):\n",
    "        spk_arr.append(list(binned_spikes[j])+[0]*(10000-binned_spikes[j].shape[0]))\n",
    "    spk_arr=np.array(spk_arr).reshape(100,-1)\n",
    "    return spk_arr"
   ]
  },
  {
   "cell_type": "code",
   "execution_count": 67,
   "id": "d6182150",
   "metadata": {
    "scrolled": true
   },
   "outputs": [],
   "source": [
    "spk_arr=convert_for_pca(spike_time_binned)"
   ]
  },
  {
   "cell_type": "code",
   "execution_count": 74,
   "id": "73ddab10",
   "metadata": {
    "scrolled": true
   },
   "outputs": [
    {
     "data": {
      "text/plain": [
       "(array([ 0,  0,  0, ..., 99, 99, 99]),\n",
       " array([  0,  30,  59, ..., 982, 990, 995]))"
      ]
     },
     "execution_count": 74,
     "metadata": {},
     "output_type": "execute_result"
    }
   ],
   "source": [
    "np.where(spk_arr!=0)"
   ]
  },
  {
   "cell_type": "code",
   "execution_count": 78,
   "id": "359de78d",
   "metadata": {},
   "outputs": [],
   "source": [
    "pca=PCA(n_components)\n",
    "pca.fit(spk_arr.T)\n",
    "var_exp=pca.explained_variance_ratio_"
   ]
  },
  {
   "cell_type": "code",
   "execution_count": 81,
   "id": "af721d7c",
   "metadata": {},
   "outputs": [
    {
     "data": {
      "text/plain": [
       "[<matplotlib.lines.Line2D at 0x7f84765b6590>]"
      ]
     },
     "execution_count": 81,
     "metadata": {},
     "output_type": "execute_result"
    },
    {
     "data": {
      "image/png": "[encoded data removed]",
      "text/plain": [
       "<Figure size 432x288 with 1 Axes>"
      ]
     },
     "metadata": {
      "needs_background": "light"
     },
     "output_type": "display_data"
    }
   ],
   "source": [
    "plt.plot(np.cumsum(var_exp))"
   ]
  },
  {
   "cell_type": "code",
   "execution_count": 82,
   "id": "1db55b8c",
   "metadata": {},
   "outputs": [],
   "source": [
    "spks_poisson=np.load('Mgpt_poisson.npy')*1000\n",
    "spk_clusters_poisson=np.load('Mgpi_poisson.npy')"
   ]
  },
  {
   "cell_type": "code",
   "execution_count": 83,
   "id": "606cd51f",
   "metadata": {},
   "outputs": [],
   "source": [
    "spike_time_binned_poisson, spike_time_cells, cell_spikes_max= bin_spikes(spks_poisson,spk_clusters_poisson, bin_size = 10)"
   ]
  },
  {
   "cell_type": "code",
   "execution_count": 84,
   "id": "938834be",
   "metadata": {},
   "outputs": [],
   "source": [
    "spk_arr_poisson=convert_for_pca(spike_time_binned_poisson)"
   ]
  },
  {
   "cell_type": "code",
   "execution_count": 86,
   "id": "a220eebd",
   "metadata": {},
   "outputs": [],
   "source": [
    "pca=PCA(n_components=50)\n",
    "pca.fit(spk_arr_poisson.T)\n",
    "var_exp_poisson=pca.explained_variance_ratio_"
   ]
  },
  {
   "cell_type": "code",
   "execution_count": 87,
   "id": "d2700cb7",
   "metadata": {},
   "outputs": [
    {
     "data": {
      "text/plain": [
       "[<matplotlib.lines.Line2D at 0x7f847656c110>]"
      ]
     },
     "execution_count": 87,
     "metadata": {},
     "output_type": "execute_result"
    },
    {
     "data": {
      "image/png": "[encoded data removed]",
      "text/plain": [
       "<Figure size 432x288 with 1 Axes>"
      ]
     },
     "metadata": {
      "needs_background": "light"
     },
     "output_type": "display_data"
    }
   ],
   "source": [
    "plt.plot(np.cumsum(var_exp))\n",
    "plt.plot(np.cumsum(var_exp_poisson))"
   ]
  }
 ],
 "metadata": {
  "kernelspec": {
   "display_name": "Python 3",
   "language": "python",
   "name": "python3"
  },
  "language_info": {
   "codemirror_mode": {
    "name": "ipython",
    "version": 3
   },
   "file_extension": ".py",
   "mimetype": "text/x-python",
   "name": "python",
   "nbconvert_exporter": "python",
   "pygments_lexer": "ipython3",
   "version": "3.7.10"
  }
 },
 "nbformat": 4,
 "nbformat_minor": 5
}
