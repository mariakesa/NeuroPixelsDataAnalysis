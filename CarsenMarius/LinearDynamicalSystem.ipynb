{
 "cells": [
  {
   "cell_type": "code",
   "execution_count": 1,
   "id": "37691705",
   "metadata": {},
   "outputs": [],
   "source": [
    "#@title Data retrieval\n",
    "import os, requests\n",
    "\n",
    "fname = \"stringer_spontaneous.npy\"\n",
    "url = \"https://osf.io/dpqaj/download\"\n",
    "\n",
    "if not os.path.isfile(fname):\n",
    "    try:\n",
    "        r = requests.get(url)\n",
    "    except requests.ConnectionError:\n",
    "    print(\"!!! Failed to download data !!!\")\n",
    "    else:\n",
    "        if r.status_code != requests.codes.ok:\n",
    "          print(\"!!! Failed to download data !!!\")\n",
    "        else:\n",
    "            with open(fname, \"wb\") as fid:\n",
    "                fid.write(r.content)"
   ]
  },
  {
   "cell_type": "code",
   "execution_count": 3,
   "id": "c71da327",
   "metadata": {},
   "outputs": [],
   "source": [
    "import numpy as np"
   ]
  },
  {
   "cell_type": "code",
   "execution_count": 5,
   "id": "431c846b",
   "metadata": {},
   "outputs": [],
   "source": [
    "dat=np.load('stringer_spontaneous.npy',allow_pickle=True)"
   ]
  },
  {
   "cell_type": "code",
   "execution_count": 10,
   "id": "fcd098e4",
   "metadata": {},
   "outputs": [
    {
     "data": {
      "text/plain": [
       "(11983, 7018)"
      ]
     },
     "execution_count": 10,
     "metadata": {},
     "output_type": "execute_result"
    }
   ],
   "source": [
    "dat.item()['sresp'].shape"
   ]
  },
  {
   "cell_type": "code",
   "execution_count": 11,
   "id": "6902d67a",
   "metadata": {},
   "outputs": [],
   "source": [
    "from sklearn.decomposition import PCA"
   ]
  },
  {
   "cell_type": "code",
   "execution_count": 14,
   "id": "da1c13cc",
   "metadata": {},
   "outputs": [
    {
     "name": "stdout",
     "output_type": "stream",
     "text": [
      "(7018, 10)\n"
     ]
    }
   ],
   "source": [
    "pca=PCA(n_components=10)\n",
    "pcs=pca.fit_transform(dat.item()['sresp'].T)\n",
    "print(pcs.shape)"
   ]
  },
  {
   "cell_type": "code",
   "execution_count": 17,
   "id": "93fdeed5",
   "metadata": {},
   "outputs": [],
   "source": [
    "x=[]\n",
    "y=[]\n",
    "for j in range(0,5000):\n",
    "    x.append(pcs[j,:].flatten())\n",
    "    y.append(pcs[j+1,:].flatten())"
   ]
  },
  {
   "cell_type": "code",
   "execution_count": 20,
   "id": "5c67c55c",
   "metadata": {},
   "outputs": [],
   "source": [
    "x_test=[]\n",
    "y_test=[]\n",
    "for j in range(5000,7000):\n",
    "    x_test.append(pcs[j,:].flatten())\n",
    "    y_test.append(pcs[j+1,:].flatten())"
   ]
  },
  {
   "cell_type": "code",
   "execution_count": 18,
   "id": "2ca15e7a",
   "metadata": {},
   "outputs": [
    {
     "name": "stdout",
     "output_type": "stream",
     "text": [
      "(5000, 10)\n"
     ]
    }
   ],
   "source": [
    "x=np.array(x)\n",
    "y=np.array(y)\n",
    "print(x.shape)"
   ]
  },
  {
   "cell_type": "code",
   "execution_count": null,
   "id": "750ddf14",
   "metadata": {},
   "outputs": [],
   "source": []
  },
  {
   "cell_type": "code",
   "execution_count": 19,
   "id": "b63faffb",
   "metadata": {},
   "outputs": [
    {
     "data": {
      "text/plain": [
       "0.470741425670049"
      ]
     },
     "execution_count": 19,
     "metadata": {},
     "output_type": "execute_result"
    }
   ],
   "source": [
    "from sklearn.linear_model import LinearRegression\n",
    "reg = LinearRegression().fit(x, y)\n",
    "reg.score(x, y)"
   ]
  },
  {
   "cell_type": "code",
   "execution_count": 21,
   "id": "c7264ec5",
   "metadata": {},
   "outputs": [
    {
     "data": {
      "text/plain": [
       "0.47756974888944087"
      ]
     },
     "execution_count": 21,
     "metadata": {},
     "output_type": "execute_result"
    }
   ],
   "source": [
    "reg.score(x_test,y_test)"
   ]
  },
  {
   "cell_type": "code",
   "execution_count": 28,
   "id": "fcc16b49",
   "metadata": {},
   "outputs": [],
   "source": [
    "y_pred=reg.predict(x_test)"
   ]
  },
  {
   "cell_type": "code",
   "execution_count": 32,
   "id": "955d4730",
   "metadata": {},
   "outputs": [
    {
     "name": "stdout",
     "output_type": "stream",
     "text": [
      "0.8504021525382995\n"
     ]
    }
   ],
   "source": [
    "from sklearn.metrics import explained_variance_score\n",
    "\n",
    "print(explained_variance_score(pcs[5000:7000],y_pred))"
   ]
  },
  {
   "cell_type": "markdown",
   "id": "550cc77f",
   "metadata": {},
   "source": [
    "# In two dimensions"
   ]
  },
  {
   "cell_type": "code",
   "execution_count": 39,
   "id": "937e6dc4",
   "metadata": {
    "scrolled": true
   },
   "outputs": [
    {
     "name": "stdout",
     "output_type": "stream",
     "text": [
      "(7018, 2)\n",
      "0.952630341053009\n"
     ]
    }
   ],
   "source": [
    "pca=PCA(n_components=2)\n",
    "pcs=pca.fit_transform(dat.item()['sresp'].T)\n",
    "print(pcs.shape)\n",
    "\n",
    "x_test=[]\n",
    "y_test=[]\n",
    "for j in range(5000,7000):\n",
    "    x_test.append(pcs[j,:].flatten())\n",
    "    y_test.append(pcs[j+1,:].flatten())\n",
    "\n",
    "x=[]\n",
    "y=[]\n",
    "for j in range(0,5000):\n",
    "    x.append(pcs[j,:].flatten())\n",
    "    y.append(pcs[j+1,:].flatten())\n",
    "    \n",
    "from sklearn.linear_model import LinearRegression\n",
    "reg = LinearRegression().fit(x, y)\n",
    "reg.score(x, y)\n",
    "\n",
    "y_pred=reg.predict(x_test)\n",
    "\n",
    "from sklearn.metrics import explained_variance_score\n",
    "\n",
    "print(explained_variance_score(pcs[5000:7000],y_pred))"
   ]
  },
  {
   "cell_type": "code",
   "execution_count": 40,
   "id": "f85eb9a3",
   "metadata": {},
   "outputs": [
    {
     "data": {
      "text/plain": [
       "array([[0.8596695 , 0.00177585],\n",
       "       [0.0512902 , 0.7396366 ]], dtype=float32)"
      ]
     },
     "execution_count": 40,
     "metadata": {},
     "output_type": "execute_result"
    }
   ],
   "source": [
    "reg.coef_"
   ]
  }
 ],
 "metadata": {
  "kernelspec": {
   "display_name": "Python 3",
   "language": "python",
   "name": "python3"
  },
  "language_info": {
   "codemirror_mode": {
    "name": "ipython",
    "version": 3
   },
   "file_extension": ".py",
   "mimetype": "text/x-python",
   "name": "python",
   "nbconvert_exporter": "python",
   "pygments_lexer": "ipython3",
   "version": "3.7.10"
  }
 },
 "nbformat": 4,
 "nbformat_minor": 5
}
