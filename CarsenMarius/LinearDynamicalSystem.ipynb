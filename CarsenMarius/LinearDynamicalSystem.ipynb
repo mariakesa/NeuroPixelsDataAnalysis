{
 "cells": [
  {
   "cell_type": "code",
   "execution_count": 1,
   "id": "e6ad864d",
   "metadata": {},
   "outputs": [],
   "source": [
    "#@title Data retrieval\n",
    "import os, requests\n",
    "\n",
    "fname = \"stringer_spontaneous.npy\"\n",
    "url = \"https://osf.io/dpqaj/download\"\n",
    "\n",
    "if not os.path.isfile(fname):\n",
    "    try:\n",
    "        r = requests.get(url)\n",
    "    except requests.ConnectionError:\n",
    "    print(\"!!! Failed to download data !!!\")\n",
    "    else:\n",
    "        if r.status_code != requests.codes.ok:\n",
    "          print(\"!!! Failed to download data !!!\")\n",
    "        else:\n",
    "            with open(fname, \"wb\") as fid:\n",
    "                fid.write(r.content)"
   ]
  },
  {
   "cell_type": "code",
   "execution_count": 3,
   "id": "89e2634a",
   "metadata": {},
   "outputs": [],
   "source": [
    "import numpy as np"
   ]
  },
  {
   "cell_type": "code",
   "execution_count": 5,
   "id": "9207af1f",
   "metadata": {},
   "outputs": [],
   "source": [
    "dat=np.load('stringer_spontaneous.npy',allow_pickle=True)"
   ]
  },
  {
   "cell_type": "code",
   "execution_count": 10,
   "id": "19342629",
   "metadata": {},
   "outputs": [
    {
     "data": {
      "text/plain": [
       "(11983, 7018)"
      ]
     },
     "execution_count": 10,
     "metadata": {},
     "output_type": "execute_result"
    }
   ],
   "source": [
    "dat.item()['sresp'].shape"
   ]
  },
  {
   "cell_type": "code",
   "execution_count": 11,
   "id": "61a956a0",
   "metadata": {},
   "outputs": [],
   "source": [
    "from sklearn.decomposition import PCA"
   ]
  },
  {
   "cell_type": "code",
   "execution_count": 14,
   "id": "93cd5b10",
   "metadata": {},
   "outputs": [
    {
     "name": "stdout",
     "output_type": "stream",
     "text": [
      "(7018, 10)\n"
     ]
    }
   ],
   "source": [
    "pca=PCA(n_components=10)\n",
    "pcs=pca.fit_transform(dat.item()['sresp'].T)\n",
    "print(pcs.shape)"
   ]
  },
  {
   "cell_type": "code",
   "execution_count": 17,
   "id": "e43881eb",
   "metadata": {},
   "outputs": [],
   "source": [
    "x=[]\n",
    "y=[]\n",
    "for j in range(0,5000):\n",
    "    x.append(pcs[j,:].flatten())\n",
    "    y.append(pcs[j+1,:].flatten())"
   ]
  },
  {
   "cell_type": "code",
   "execution_count": 20,
   "id": "ec4c0ada",
   "metadata": {},
   "outputs": [],
   "source": [
    "x_test=[]\n",
    "y_test=[]\n",
    "for j in range(5000,7000):\n",
    "    x_test.append(pcs[j,:].flatten())\n",
    "    y_test.append(pcs[j+1,:].flatten())"
   ]
  },
  {
   "cell_type": "code",
   "execution_count": 18,
   "id": "48fd5ca4",
   "metadata": {},
   "outputs": [
    {
     "name": "stdout",
     "output_type": "stream",
     "text": [
      "(5000, 10)\n"
     ]
    }
   ],
   "source": [
    "x=np.array(x)\n",
    "y=np.array(y)\n",
    "print(x.shape)"
   ]
  },
  {
   "cell_type": "code",
   "execution_count": null,
   "id": "c18ca456",
   "metadata": {},
   "outputs": [],
   "source": []
  },
  {
   "cell_type": "code",
   "execution_count": 19,
   "id": "69ef4602",
   "metadata": {},
   "outputs": [
    {
     "data": {
      "text/plain": [
       "0.470741425670049"
      ]
     },
     "execution_count": 19,
     "metadata": {},
     "output_type": "execute_result"
    }
   ],
   "source": [
    "from sklearn.linear_model import LinearRegression\n",
    "reg = LinearRegression().fit(x, y)\n",
    "reg.score(x, y)"
   ]
  },
  {
   "cell_type": "code",
   "execution_count": 21,
   "id": "0016689b",
   "metadata": {},
   "outputs": [
    {
     "data": {
      "text/plain": [
       "0.47756974888944087"
      ]
     },
     "execution_count": 21,
     "metadata": {},
     "output_type": "execute_result"
    }
   ],
   "source": [
    "reg.score(x_test,y_test)"
   ]
  },
  {
   "cell_type": "code",
   "execution_count": 28,
   "id": "ddb879b4",
   "metadata": {},
   "outputs": [],
   "source": [
    "y_pred=reg.predict(x_test)"
   ]
  },
  {
   "cell_type": "code",
   "execution_count": 32,
   "id": "9b629b59",
   "metadata": {},
   "outputs": [
    {
     "name": "stdout",
     "output_type": "stream",
     "text": [
      "0.8504021525382995\n"
     ]
    }
   ],
   "source": [
    "from sklearn.metrics import explained_variance_score\n",
    "\n",
    "print(explained_variance_score(pcs[5000:7000],y_pred))"
   ]
  },
  {
   "cell_type": "markdown",
   "id": "582ad709",
   "metadata": {},
   "source": [
    "# In two dimensions"
   ]
  },
  {
   "cell_type": "code",
   "execution_count": 39,
   "id": "be17f4e1",
   "metadata": {
    "scrolled": true
   },
   "outputs": [
    {
     "name": "stdout",
     "output_type": "stream",
     "text": [
      "(7018, 2)\n",
      "0.952630341053009\n"
     ]
    }
   ],
   "source": [
    "pca=PCA(n_components=2)\n",
    "pcs=pca.fit_transform(dat.item()['sresp'].T)\n",
    "print(pcs.shape)\n",
    "\n",
    "x_test=[]\n",
    "y_test=[]\n",
    "for j in range(5000,7000):\n",
    "    x_test.append(pcs[j,:].flatten())\n",
    "    y_test.append(pcs[j+1,:].flatten())\n",
    "\n",
    "x=[]\n",
    "y=[]\n",
    "for j in range(0,5000):\n",
    "    x.append(pcs[j,:].flatten())\n",
    "    y.append(pcs[j+1,:].flatten())\n",
    "    \n",
    "from sklearn.linear_model import LinearRegression\n",
    "reg = LinearRegression().fit(x, y)\n",
    "reg.score(x, y)\n",
    "\n",
    "y_pred=reg.predict(x_test)\n",
    "\n",
    "from sklearn.metrics import explained_variance_score\n",
    "\n",
    "print(explained_variance_score(pcs[5000:7000],y_pred))"
   ]
  },
  {
   "cell_type": "code",
   "execution_count": 40,
   "id": "ffee87c3",
   "metadata": {
    "scrolled": true
   },
   "outputs": [
    {
     "data": {
      "text/plain": [
       "array([[0.8596695 , 0.00177585],\n",
       "       [0.0512902 , 0.7396366 ]], dtype=float32)"
      ]
     },
     "execution_count": 40,
     "metadata": {},
     "output_type": "execute_result"
    }
   ],
   "source": [
    "reg.coef_"
   ]
  },
  {
   "cell_type": "code",
   "execution_count": 56,
   "id": "e9e336e7",
   "metadata": {},
   "outputs": [],
   "source": [
    "y_preds=[]\n",
    "for j in range(0,2000):\n",
    "    y_pred=reg.coef_@x_test[j]+reg.intercept_\n",
    "    y_preds.append(y_pred)"
   ]
  },
  {
   "cell_type": "code",
   "execution_count": 57,
   "id": "56b812e4",
   "metadata": {},
   "outputs": [],
   "source": [
    "y_preds=np.array(y_preds)"
   ]
  },
  {
   "cell_type": "code",
   "execution_count": 47,
   "id": "9d3755eb",
   "metadata": {},
   "outputs": [
    {
     "data": {
      "text/plain": [
       "(2000, 2)"
      ]
     },
     "execution_count": 47,
     "metadata": {},
     "output_type": "execute_result"
    }
   ],
   "source": [
    "y_preds.shape"
   ]
  },
  {
   "cell_type": "code",
   "execution_count": 58,
   "id": "b36d3c29",
   "metadata": {},
   "outputs": [],
   "source": [
    "y_test=np.array(y_test)"
   ]
  },
  {
   "cell_type": "code",
   "execution_count": 59,
   "id": "11cbe80f",
   "metadata": {},
   "outputs": [
    {
     "data": {
      "text/plain": [
       "array([[ 1.        , -0.00547977,  0.88306398, -0.05977962],\n",
       "       [-0.00547977,  1.        , -0.01626914,  0.71692525],\n",
       "       [ 0.88306398, -0.01626914,  1.        , -0.09404062],\n",
       "       [-0.05977962,  0.71692525, -0.09404062,  1.        ]])"
      ]
     },
     "execution_count": 59,
     "metadata": {},
     "output_type": "execute_result"
    }
   ],
   "source": [
    "np.corrcoef(y_preds.T,y_test.T)"
   ]
  },
  {
   "cell_type": "code",
   "execution_count": 60,
   "id": "5a7a4fac",
   "metadata": {},
   "outputs": [
    {
     "data": {
      "text/plain": [
       "<matplotlib.legend.Legend at 0x7fb2905293d0>"
      ]
     },
     "execution_count": 60,
     "metadata": {},
     "output_type": "execute_result"
    },
    {
     "data": {
      "image/png": "[encoded data removed]",
      "text/plain": [
       "<Figure size 432x288 with 1 Axes>"
      ]
     },
     "metadata": {
      "needs_background": "light"
     },
     "output_type": "display_data"
    }
   ],
   "source": [
    "import matplotlib.pyplot as plt\n",
    "\n",
    "plt.plot(y_preds[:50,0],y_preds[:50,1],label='Predicted')\n",
    "plt.plot(y_test[:50,0],y_test[:50,1],label='True')\n",
    "plt.legend()"
   ]
  }
 ],
 "metadata": {
  "kernelspec": {
   "display_name": "Python 3",
   "language": "python",
   "name": "python3"
  },
  "language_info": {
   "codemirror_mode": {
    "name": "ipython",
    "version": 3
   },
   "file_extension": ".py",
   "mimetype": "text/x-python",
   "name": "python",
   "nbconvert_exporter": "python",
   "pygments_lexer": "ipython3",
   "version": "3.7.10"
  }
 },
 "nbformat": 4,
 "nbformat_minor": 5
}
