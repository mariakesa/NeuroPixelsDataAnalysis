{
 "cells": [
  {
   "cell_type": "code",
   "execution_count": 1,
   "id": "82dd29af",
   "metadata": {},
   "outputs": [],
   "source": [
    "#@title Data retrieval\n",
    "import os, requests\n",
    "\n",
    "fname = \"stringer_spontaneous.npy\"\n",
    "url = \"https://osf.io/dpqaj/download\"\n",
    "\n",
    "if not os.path.isfile(fname):\n",
    "    try:\n",
    "        r = requests.get(url)\n",
    "    except requests.ConnectionError:\n",
    "    print(\"!!! Failed to download data !!!\")\n",
    "    else:\n",
    "        if r.status_code != requests.codes.ok:\n",
    "          print(\"!!! Failed to download data !!!\")\n",
    "        else:\n",
    "            with open(fname, \"wb\") as fid:\n",
    "                fid.write(r.content)"
   ]
  },
  {
   "cell_type": "code",
   "execution_count": 3,
   "id": "df273d36",
   "metadata": {},
   "outputs": [],
   "source": [
    "import numpy as np"
   ]
  },
  {
   "cell_type": "code",
   "execution_count": 5,
   "id": "2b4e8c29",
   "metadata": {},
   "outputs": [],
   "source": [
    "dat=np.load('stringer_spontaneous.npy',allow_pickle=True)"
   ]
  },
  {
   "cell_type": "code",
   "execution_count": 10,
   "id": "c0b878e8",
   "metadata": {},
   "outputs": [
    {
     "data": {
      "text/plain": [
       "(11983, 7018)"
      ]
     },
     "execution_count": 10,
     "metadata": {},
     "output_type": "execute_result"
    }
   ],
   "source": [
    "dat.item()['sresp'].shape"
   ]
  },
  {
   "cell_type": "code",
   "execution_count": 11,
   "id": "dc08c7e8",
   "metadata": {},
   "outputs": [],
   "source": [
    "from sklearn.decomposition import PCA"
   ]
  },
  {
   "cell_type": "code",
   "execution_count": 14,
   "id": "d128219c",
   "metadata": {},
   "outputs": [
    {
     "name": "stdout",
     "output_type": "stream",
     "text": [
      "(7018, 10)\n"
     ]
    }
   ],
   "source": [
    "pca=PCA(n_components=10)\n",
    "pcs=pca.fit_transform(dat.item()['sresp'].T)\n",
    "print(pcs.shape)"
   ]
  },
  {
   "cell_type": "code",
   "execution_count": 17,
   "id": "e41bb0ca",
   "metadata": {},
   "outputs": [],
   "source": [
    "x=[]\n",
    "y=[]\n",
    "for j in range(0,5000):\n",
    "    x.append(pcs[j,:].flatten())\n",
    "    y.append(pcs[j+1,:].flatten())"
   ]
  },
  {
   "cell_type": "code",
   "execution_count": 20,
   "id": "42c891e9",
   "metadata": {},
   "outputs": [],
   "source": [
    "x_test=[]\n",
    "y_test=[]\n",
    "for j in range(5000,7000):\n",
    "    x_test.append(pcs[j,:].flatten())\n",
    "    y_test.append(pcs[j+1,:].flatten())"
   ]
  },
  {
   "cell_type": "code",
   "execution_count": 18,
   "id": "3cb6c5b9",
   "metadata": {},
   "outputs": [
    {
     "name": "stdout",
     "output_type": "stream",
     "text": [
      "(5000, 10)\n"
     ]
    }
   ],
   "source": [
    "x=np.array(x)\n",
    "y=np.array(y)\n",
    "print(x.shape)"
   ]
  },
  {
   "cell_type": "code",
   "execution_count": null,
   "id": "0182a698",
   "metadata": {},
   "outputs": [],
   "source": []
  },
  {
   "cell_type": "code",
   "execution_count": 19,
   "id": "f82cbea2",
   "metadata": {},
   "outputs": [
    {
     "data": {
      "text/plain": [
       "0.470741425670049"
      ]
     },
     "execution_count": 19,
     "metadata": {},
     "output_type": "execute_result"
    }
   ],
   "source": [
    "from sklearn.linear_model import LinearRegression\n",
    "reg = LinearRegression().fit(x, y)\n",
    "reg.score(x, y)"
   ]
  },
  {
   "cell_type": "code",
   "execution_count": 21,
   "id": "ea5b3bf2",
   "metadata": {},
   "outputs": [
    {
     "data": {
      "text/plain": [
       "0.47756974888944087"
      ]
     },
     "execution_count": 21,
     "metadata": {},
     "output_type": "execute_result"
    }
   ],
   "source": [
    "reg.score(x_test,y_test)"
   ]
  },
  {
   "cell_type": "code",
   "execution_count": 28,
   "id": "1c249643",
   "metadata": {},
   "outputs": [],
   "source": [
    "y_pred=reg.predict(x_test)"
   ]
  },
  {
   "cell_type": "code",
   "execution_count": 32,
   "id": "0b70a038",
   "metadata": {},
   "outputs": [
    {
     "name": "stdout",
     "output_type": "stream",
     "text": [
      "0.8504021525382995\n"
     ]
    }
   ],
   "source": [
    "from sklearn.metrics import explained_variance_score\n",
    "\n",
    "print(explained_variance_score(pcs[5000:7000],y_pred))"
   ]
  },
  {
   "cell_type": "markdown",
   "id": "f77f4ba9",
   "metadata": {},
   "source": [
    "# In two dimensions"
   ]
  },
  {
   "cell_type": "code",
   "execution_count": 39,
   "id": "c37d69cd",
   "metadata": {
    "scrolled": true
   },
   "outputs": [
    {
     "name": "stdout",
     "output_type": "stream",
     "text": [
      "(7018, 2)\n",
      "0.952630341053009\n"
     ]
    }
   ],
   "source": [
    "pca=PCA(n_components=2)\n",
    "pcs=pca.fit_transform(dat.item()['sresp'].T)\n",
    "print(pcs.shape)\n",
    "\n",
    "x_test=[]\n",
    "y_test=[]\n",
    "for j in range(5000,7000):\n",
    "    x_test.append(pcs[j,:].flatten())\n",
    "    y_test.append(pcs[j+1,:].flatten())\n",
    "\n",
    "x=[]\n",
    "y=[]\n",
    "for j in range(0,5000):\n",
    "    x.append(pcs[j,:].flatten())\n",
    "    y.append(pcs[j+1,:].flatten())\n",
    "    \n",
    "from sklearn.linear_model import LinearRegression\n",
    "reg = LinearRegression().fit(x, y)\n",
    "reg.score(x, y)\n",
    "\n",
    "y_pred=reg.predict(x_test)\n",
    "\n",
    "from sklearn.metrics import explained_variance_score\n",
    "\n",
    "print(explained_variance_score(pcs[5000:7000],y_pred))"
   ]
  },
  {
   "cell_type": "code",
   "execution_count": 40,
   "id": "6730ad53",
   "metadata": {
    "scrolled": true
   },
   "outputs": [
    {
     "data": {
      "text/plain": [
       "array([[0.8596695 , 0.00177585],\n",
       "       [0.0512902 , 0.7396366 ]], dtype=float32)"
      ]
     },
     "execution_count": 40,
     "metadata": {},
     "output_type": "execute_result"
    }
   ],
   "source": [
    "reg.coef_"
   ]
  },
  {
   "cell_type": "code",
   "execution_count": 43,
   "id": "b134d468",
   "metadata": {},
   "outputs": [],
   "source": [
    "y_preds=[]\n",
    "for j in range(0,2000):\n",
    "    y_pred=reg.coef_@x_test[j]\n",
    "    y_preds.append(y_pred)"
   ]
  },
  {
   "cell_type": "code",
   "execution_count": 46,
   "id": "baf414af",
   "metadata": {},
   "outputs": [],
   "source": [
    "y_preds=np.array(y_preds)"
   ]
  },
  {
   "cell_type": "code",
   "execution_count": 47,
   "id": "42cf08bd",
   "metadata": {},
   "outputs": [
    {
     "data": {
      "text/plain": [
       "(2000, 2)"
      ]
     },
     "execution_count": 47,
     "metadata": {},
     "output_type": "execute_result"
    }
   ],
   "source": [
    "y_preds.shape"
   ]
  },
  {
   "cell_type": "code",
   "execution_count": 49,
   "id": "fe317b0b",
   "metadata": {},
   "outputs": [],
   "source": [
    "y_test=np.array(y_test)"
   ]
  },
  {
   "cell_type": "code",
   "execution_count": 54,
   "id": "8ff65208",
   "metadata": {},
   "outputs": [
    {
     "data": {
      "text/plain": [
       "array([[ 1.        , -0.00547977,  0.88306398, -0.05977963],\n",
       "       [-0.00547977,  1.        , -0.01626914,  0.71692525],\n",
       "       [ 0.88306398, -0.01626914,  1.        , -0.09404062],\n",
       "       [-0.05977963,  0.71692525, -0.09404062,  1.        ]])"
      ]
     },
     "execution_count": 54,
     "metadata": {},
     "output_type": "execute_result"
    }
   ],
   "source": [
    "np.corrcoef(y_preds.T,y_test.T)"
   ]
  },
  {
   "cell_type": "code",
   "execution_count": 52,
   "id": "79c615ea",
   "metadata": {},
   "outputs": [
    {
     "data": {
      "text/plain": [
       "<matplotlib.legend.Legend at 0x7fb290a55710>"
      ]
     },
     "execution_count": 52,
     "metadata": {},
     "output_type": "execute_result"
    },
    {
     "data": {
      "image/png": "[encoded data removed]",
      "text/plain": [
       "<Figure size 432x288 with 1 Axes>"
      ]
     },
     "metadata": {
      "needs_background": "light"
     },
     "output_type": "display_data"
    }
   ],
   "source": [
    "import matplotlib.pyplot as plt\n",
    "\n",
    "plt.plot(y_preds[:100,0],y_preds[:100,1],label='Predicted')\n",
    "plt.plot(y_test[:100,0],y_test[:100,1],label='True')\n",
    "plt.legend()"
   ]
  }
 ],
 "metadata": {
  "kernelspec": {
   "display_name": "Python 3",
   "language": "python",
   "name": "python3"
  },
  "language_info": {
   "codemirror_mode": {
    "name": "ipython",
    "version": 3
   },
   "file_extension": ".py",
   "mimetype": "text/x-python",
   "name": "python",
   "nbconvert_exporter": "python",
   "pygments_lexer": "ipython3",
   "version": "3.7.10"
  }
 },
 "nbformat": 4,
 "nbformat_minor": 5
}
