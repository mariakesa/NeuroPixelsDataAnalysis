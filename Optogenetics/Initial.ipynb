{
 "cells": [
  {
   "cell_type": "code",
   "execution_count": 2,
   "id": "81b1af18",
   "metadata": {},
   "outputs": [
    {
     "name": "stdout",
     "output_type": "stream",
     "text": [
      "Collecting pyrho\n",
      "  Downloading PyRhO-0.9.4.tar.gz (1.6 MB)\n",
      "\u001b[K     |████████████████████████████████| 1.6 MB 474 kB/s eta 0:00:01\n",
      "\u001b[?25hRequirement already satisfied: numpy>=1.8 in /home/maria/anaconda3/lib/python3.7/site-packages (from pyrho) (1.20.3)\n",
      "Requirement already satisfied: scipy>=0.15 in /home/maria/anaconda3/lib/python3.7/site-packages (from pyrho) (1.6.3)\n",
      "Requirement already satisfied: matplotlib>=1.3 in /home/maria/anaconda3/lib/python3.7/site-packages (from pyrho) (3.4.2)\n",
      "Collecting lmfit>=0.9\n",
      "  Downloading lmfit-1.0.2.tar.gz (306 kB)\n",
      "\u001b[K     |████████████████████████████████| 306 kB 5.1 MB/s eta 0:00:01\n",
      "\u001b[?25hRequirement already satisfied: ipython>=4.1 in /home/maria/anaconda3/lib/python3.7/site-packages (from pyrho) (7.22.0)\n",
      "Requirement already satisfied: brian2 in /home/maria/anaconda3/lib/python3.7/site-packages (from pyrho) (2.4.2)\n",
      "Requirement already satisfied: setuptools>=18.5 in /home/maria/anaconda3/lib/python3.7/site-packages (from ipython>=4.1->pyrho) (57.4.0)\n",
      "Requirement already satisfied: traitlets>=4.2 in /home/maria/anaconda3/lib/python3.7/site-packages (from ipython>=4.1->pyrho) (5.0.5)\n",
      "Requirement already satisfied: backcall in /home/maria/anaconda3/lib/python3.7/site-packages (from ipython>=4.1->pyrho) (0.2.0)\n",
      "Requirement already satisfied: decorator in /home/maria/anaconda3/lib/python3.7/site-packages (from ipython>=4.1->pyrho) (4.4.2)\n",
      "Requirement already satisfied: pickleshare in /home/maria/anaconda3/lib/python3.7/site-packages (from ipython>=4.1->pyrho) (0.7.5)\n",
      "Requirement already satisfied: pygments in /home/maria/anaconda3/lib/python3.7/site-packages (from ipython>=4.1->pyrho) (2.9.0)\n",
      "Requirement already satisfied: pexpect>4.3 in /home/maria/anaconda3/lib/python3.7/site-packages (from ipython>=4.1->pyrho) (4.8.0)\n",
      "Requirement already satisfied: prompt-toolkit!=3.0.0,!=3.0.1,<3.1.0,>=2.0.0 in /home/maria/anaconda3/lib/python3.7/site-packages (from ipython>=4.1->pyrho) (3.0.17)\n",
      "Collecting jedi>=0.16\n",
      "  Using cached jedi-0.18.0-py2.py3-none-any.whl (1.4 MB)\n",
      "Collecting parso<0.9.0,>=0.8.0\n",
      "  Using cached parso-0.8.2-py2.py3-none-any.whl (94 kB)\n",
      "Collecting asteval>=0.9.16\n",
      "  Downloading asteval-0.9.25.tar.gz (39 kB)\n",
      "Collecting uncertainties>=3.0.1\n",
      "  Downloading uncertainties-3.1.6-py2.py3-none-any.whl (98 kB)\n",
      "\u001b[K     |████████████████████████████████| 98 kB 2.4 MB/s eta 0:00:011\n",
      "\u001b[?25hRequirement already satisfied: python-dateutil>=2.7 in /home/maria/anaconda3/lib/python3.7/site-packages (from matplotlib>=1.3->pyrho) (2.8.2)\n",
      "Requirement already satisfied: kiwisolver>=1.0.1 in /home/maria/anaconda3/lib/python3.7/site-packages (from matplotlib>=1.3->pyrho) (1.3.1)\n",
      "Requirement already satisfied: cycler>=0.10 in /home/maria/anaconda3/lib/python3.7/site-packages (from matplotlib>=1.3->pyrho) (0.10.0)\n",
      "Requirement already satisfied: pyparsing>=2.2.1 in /home/maria/anaconda3/lib/python3.7/site-packages (from matplotlib>=1.3->pyrho) (2.4.7)\n",
      "Requirement already satisfied: pillow>=6.2.0 in /home/maria/anaconda3/lib/python3.7/site-packages (from matplotlib>=1.3->pyrho) (8.2.0)\n",
      "Requirement already satisfied: six in /home/maria/anaconda3/lib/python3.7/site-packages (from cycler>=0.10->matplotlib>=1.3->pyrho) (1.16.0)\n",
      "Requirement already satisfied: ptyprocess>=0.5 in /home/maria/anaconda3/lib/python3.7/site-packages (from pexpect>4.3->ipython>=4.1->pyrho) (0.7.0)\n",
      "Requirement already satisfied: wcwidth in /home/maria/anaconda3/lib/python3.7/site-packages (from prompt-toolkit!=3.0.0,!=3.0.1,<3.1.0,>=2.0.0->ipython>=4.1->pyrho) (0.2.5)\n",
      "Requirement already satisfied: ipython-genutils in /home/maria/anaconda3/lib/python3.7/site-packages (from traitlets>=4.2->ipython>=4.1->pyrho) (0.2.0)\n",
      "Requirement already satisfied: future in /home/maria/anaconda3/lib/python3.7/site-packages (from uncertainties>=3.0.1->lmfit>=0.9->pyrho) (0.18.2)\n",
      "Requirement already satisfied: cython>=0.29 in /home/maria/anaconda3/lib/python3.7/site-packages (from brian2->pyrho) (0.29.24)\n",
      "Requirement already satisfied: jinja2>=2.7 in /home/maria/anaconda3/lib/python3.7/site-packages (from brian2->pyrho) (3.0.1)\n",
      "Requirement already satisfied: sympy>=1.2 in /home/maria/anaconda3/lib/python3.7/site-packages (from brian2->pyrho) (1.8)\n",
      "Requirement already satisfied: MarkupSafe>=2.0 in /home/maria/anaconda3/lib/python3.7/site-packages (from jinja2>=2.7->brian2->pyrho) (2.0.1)\n",
      "Requirement already satisfied: mpmath>=0.19 in /home/maria/anaconda3/lib/python3.7/site-packages (from sympy>=1.2->brian2->pyrho) (1.2.1)\n",
      "Building wheels for collected packages: pyrho, lmfit, asteval\n",
      "  Building wheel for pyrho (setup.py) ... \u001b[?25ldone\n",
      "\u001b[?25h  Created wheel for pyrho: filename=PyRhO-0.9.4-py3-none-any.whl size=1644973 sha256=f6c2014d8d4dfe08d72c4d6898529682141f9026e2b2f78ed30ba3e287563cf7\n",
      "  Stored in directory: /home/maria/.cache/pip/wheels/0f/ae/4c/3820021bd79d4781f37c3c173eca51e454feec9525c2d85e30\n",
      "  Building wheel for lmfit (setup.py) ... \u001b[?25ldone\n",
      "\u001b[?25h  Created wheel for lmfit: filename=lmfit-1.0.2-py3-none-any.whl size=85274 sha256=0e66f09c12e84787b72a385079a366f4741feb550b7115f559116e4ffe740786\n",
      "  Stored in directory: /home/maria/.cache/pip/wheels/42/81/51/72ff0f8e216caa9fe1e9dd1e7c287274b1eb75c79bfc858f5b\n",
      "  Building wheel for asteval (setup.py) ... \u001b[?25ldone\n",
      "\u001b[?25h  Created wheel for asteval: filename=asteval-0.9.25-py3-none-any.whl size=17301 sha256=26f3f9147a876c23f48c33b0ce7a14353db806ca8c47e7966821510a880b6308\n",
      "  Stored in directory: /home/maria/.cache/pip/wheels/4a/87/53/f1385a55b3f60eabb921c5f4fd151c00fdb016b5111b8c830f\n",
      "Successfully built pyrho lmfit asteval\n",
      "Installing collected packages: parso, uncertainties, jedi, asteval, lmfit, pyrho\n",
      "  Attempting uninstall: parso\n",
      "    Found existing installation: parso 0.7.0\n",
      "    Uninstalling parso-0.7.0:\n",
      "      Successfully uninstalled parso-0.7.0\n",
      "  Attempting uninstall: jedi\n",
      "    Found existing installation: jedi 0.15.2\n",
      "    Uninstalling jedi-0.15.2:\n",
      "      Successfully uninstalled jedi-0.15.2\n",
      "\u001b[31mERROR: pip's dependency resolver does not currently take into account all the packages that are installed. This behaviour is the source of the following dependency conflicts.\n",
      "spyder 4.1.2 requires jedi==0.15.2, but you have jedi 0.18.0 which is incompatible.\n",
      "spyder 4.1.2 requires parso==0.5.2, but you have parso 0.8.2 which is incompatible.\n",
      "spyder 4.1.2 requires pyqt5<5.13; python_version >= \"3\", but you have pyqt5 5.13.1 which is incompatible.\n",
      "spyder 4.1.2 requires pyqtwebengine<5.13; python_version >= \"3\", but you have pyqtwebengine 5.13.1 which is incompatible.\n",
      "python-language-server 0.31.9 requires jedi<0.16,>=0.14.1, but you have jedi 0.18.0 which is incompatible.\u001b[0m\n",
      "Successfully installed asteval-0.9.25 jedi-0.18.0 lmfit-1.0.2 parso-0.8.2 pyrho-0.9.4 uncertainties-3.1.6\n"
     ]
    }
   ],
   "source": [
    "!pip install pyrho"
   ]
  },
  {
   "cell_type": "code",
   "execution_count": 3,
   "id": "9c1f1e57",
   "metadata": {},
   "outputs": [],
   "source": [
    "from pyrho import *"
   ]
  },
  {
   "cell_type": "code",
   "execution_count": 6,
   "id": "118e9814",
   "metadata": {},
   "outputs": [],
   "source": [
    "### Define the rhodopsin model\n",
    "nStates = '6'\n",
    "#origParams = loadData('fitted{}sParams'.format(nStates))\n",
    "origParams = modelFits[nStates]['ChR2'] # Load from pre-fit models\n",
    "RhO = models[nStates](origParams)\n",
    "\n",
    "### Define the stimulation protocol\n",
    "Prot = protocols['step']()\n",
    "Prot.phis = [1e18]\n",
    "Prot.Vs = [None]\n",
    "Prot.cycles = [[150.,100.],[200.,75.]]"
   ]
  },
  {
   "cell_type": "code",
   "execution_count": 7,
   "id": "a5c07ccb",
   "metadata": {},
   "outputs": [],
   "source": [
    "spikes=np.load('/media/maria/DATA1/Documents/NeuroMatchAcademy2020_dat/spk_arr2.npy')\n",
    "cell_identity=np.load('/media/maria/DATA1/Documents/NeuroMatchAcademy2020_dat/cell_identity2.npy')"
   ]
  },
  {
   "cell_type": "code",
   "execution_count": 34,
   "id": "8cc4bc75",
   "metadata": {},
   "outputs": [],
   "source": [
    "from brian2 import *\n",
    "start=time.time()\n",
    "defaultclock.dt = 0.1*ms\n",
    "tau = 10*ms\n",
    "vr = -70*mV\n",
    "vt = -60*mV\n",
    "eqs = '''\n",
    "dv/dt = I_ampa/Cm : volt\n",
    "I_ampa=-g_ext_ampa*s_ext*(v-E_ampa) : amp\n",
    "ds_ext/dt=-s_ext/t_ampa : 1\n",
    "'''\n",
    "eqs_rho = '''\n",
    "dv/dt = I_ampa/Cm +((-I*R_m)+E_m-v)/tau_m : volt\n",
    "I_ampa=-g_ext_ampa*s_ext*(v-E_ampa) : amp\n",
    "ds_ext/dt=-s_ext/t_ampa : 1\n",
    "'''+ RhO.brian_phi_t\n",
    "netParams = {'t_ampa':2*ms, 'Cm':0.5*nF, 'E_ampa':0.0*mV, 'g_ext_ampa':3.1*nS,'vt':-60*mV,'vr':-70*mV,'w':1,'E_m':-70*mV,'tau_m':10*ms, 'R_m':70*Mohm}\n",
    "E_ampa=0.0*mV\n",
    "neuron = NeuronGroup(100, eqs, threshold='v>vt', reset='v=vr')\n",
    "neuron_rho=NeuronGroup(100,eqs_rho,threshold='v>vt',reset='v=vr',name='Inputs')\n",
    "neuron.v = -10*mV\n",
    "neuron.s_ext = 0\n",
    "spikes_gen=SpikeGeneratorGroup(1000,list(cell_identity),spikes*1000*ms)\n",
    "w = 1\n",
    "S = Synapses(spikes_gen, neuron, on_pre='s_ext += w')\n",
    "S.connect(p=0.1)\n",
    "S = Synapses(spikes_gen, neuron_rho, on_pre='s_ext += w')\n",
    "S.connect(p=0.1)\n",
    "S = Synapses(neuron_rho, neuron, on_pre='s_ext += w')\n",
    "S.connect(p=0.5)\n",
    "# Record the spikes\n",
    "Mgp = SpikeMonitor(neuron)\n",
    "Mgp_rho = SpikeMonitor(neuron_rho)\n",
    "Minput = SpikeMonitor(spikes_gen)\n",
    "monitors={'states' : StateMonitor(neuron_rho, RhO.brianStateVars, record=0), 'I': StateMonitor(neuron_rho, 'I', record=0),                  # Record current\n",
    "            'spikes':[Mgp,Mgp_rho,Minput]}"
   ]
  },
  {
   "cell_type": "code",
   "execution_count": 31,
   "id": "685661ca",
   "metadata": {},
   "outputs": [
    {
     "data": {
      "text/plain": [
       "'\\n            dC_1/dt = Gr0*C_2 + Gd1*O_1 - Ga1*C_1 : 1\\n            dI_1/dt = Ga1*C_1 - Go1*I_1 : 1\\n            dO_1/dt = Go1*I_1 - (Gd1+Gf)*O_1 + Gb*O_2 : 1\\n            dO_2/dt = Go2*I_2 + Gf*O_1 - (Gd2+Gb)*O_2 : 1\\n            dI_2/dt = Ga2*C_2 - Go2*I_2 : 1\\n            C_2 = 1 - C_1 - I_1 - O_1 - O_2 - I_2 : 1\\n            H_p = Theta*((phi(t)**p)/(phi(t)**p+phi_m**p)) : 1\\n            H_q = Theta*((phi(t)**q)/(phi(t)**q+phi_m**q)) : 1\\n            Ga1 = k1*H_p : second**-1\\n            Ga2 = k2*H_p : second**-1\\n            Gf = Gf0 + k_f*H_q : second**-1\\n            Gb = Gb0 + k_b*H_q : second**-1\\n            f_v = (1-exp(-(v-E)/v0))/((v-E)/v1) : 1\\n            f_phi = O_1+gam*O_2 : 1\\n            I = g0*f_phi*f_v*(v-E) : amp\\n            Theta = int(phi(t) > 0*phi(t)) : 1 (shared)\\n            '"
      ]
     },
     "execution_count": 31,
     "metadata": {},
     "output_type": "execute_result"
    }
   ],
   "source": [
    "RhO.brian_phi_t"
   ]
  },
  {
   "cell_type": "code",
   "execution_count": 35,
   "id": "8b2ef15f",
   "metadata": {},
   "outputs": [
    {
     "name": "stdout",
     "output_type": "stream",
     "text": [
      "\n",
      "================================================================================\n",
      "Running 'step' protocol with Brian for the Six-state ChR2 model... \n",
      "================================================================================\n",
      "\n",
      "{nRuns=1, nPhis=1, nVs=1}\n"
     ]
    },
    {
     "ename": "BrianObjectException",
     "evalue": "Error encountered with object named \"statemonitor_3\".\nObject was created here (most recent call only, full details in debug log):\n  File \"<ipython-input-34-550b4b2f4727>\", line 35, in <module>\n    monitors={'states' : StateMonitor(neuron_rho, RhO.brianStateVars, record=0), 'I': StateMonitor(neuron_rho, 'I', record=0),                  # Record current\n\nAn exception occured during the execution of the run block of code object statemonitor_3_codeobject.\n (See above for original error message and traceback.)",
     "output_type": "error",
     "traceback": [
      "\u001b[0;31m---------------------------------------------------------------------------\u001b[0m",
      "\u001b[0;31mZeroDivisionError\u001b[0m                         Traceback (most recent call last)",
      "\u001b[0;32m~/anaconda3/lib/python3.7/site-packages/brian2/codegen/runtime/cython_rt/cython_rt.py\u001b[0m in \u001b[0;36mrun_block\u001b[0;34m(self, block)\u001b[0m\n\u001b[1;32m    159\u001b[0m             \u001b[0;32mtry\u001b[0m\u001b[0;34m:\u001b[0m\u001b[0;34m\u001b[0m\u001b[0;34m\u001b[0m\u001b[0m\n\u001b[0;32m--> 160\u001b[0;31m                 \u001b[0;32mreturn\u001b[0m \u001b[0mcompiled_code\u001b[0m\u001b[0;34m.\u001b[0m\u001b[0mmain\u001b[0m\u001b[0;34m(\u001b[0m\u001b[0mself\u001b[0m\u001b[0;34m.\u001b[0m\u001b[0mnamespace\u001b[0m\u001b[0;34m)\u001b[0m\u001b[0;34m\u001b[0m\u001b[0;34m\u001b[0m\u001b[0m\n\u001b[0m\u001b[1;32m    161\u001b[0m             \u001b[0;32mexcept\u001b[0m \u001b[0mException\u001b[0m \u001b[0;32mas\u001b[0m \u001b[0mexc\u001b[0m\u001b[0;34m:\u001b[0m\u001b[0;34m\u001b[0m\u001b[0;34m\u001b[0m\u001b[0m\n",
      "\u001b[0;32m_cython_magic_5c8d402f74267ffb33df1c30d77522bb.pyx\u001b[0m in \u001b[0;36m_cython_magic_5c8d402f74267ffb33df1c30d77522bb.main\u001b[0;34m()\u001b[0m\n",
      "\u001b[0;31mZeroDivisionError\u001b[0m: float division",
      "\nThe above exception was the direct cause of the following exception:\n",
      "\u001b[0;31mBrianObjectException\u001b[0m                      Traceback (most recent call last)",
      "\u001b[0;32m<ipython-input-35-2528c65eb708>\u001b[0m in \u001b[0;36m<module>\u001b[0;34m\u001b[0m\n\u001b[1;32m      6\u001b[0m \u001b[0mnet\u001b[0m\u001b[0;34m.\u001b[0m\u001b[0madd\u001b[0m\u001b[0;34m(\u001b[0m\u001b[0mmonitors\u001b[0m\u001b[0;34m.\u001b[0m\u001b[0mvalues\u001b[0m\u001b[0;34m(\u001b[0m\u001b[0;34m)\u001b[0m\u001b[0;34m)\u001b[0m\u001b[0;34m\u001b[0m\u001b[0;34m\u001b[0m\u001b[0m\n\u001b[1;32m      7\u001b[0m \u001b[0mSim\u001b[0m \u001b[0;34m=\u001b[0m \u001b[0msimulators\u001b[0m\u001b[0;34m[\u001b[0m\u001b[0;34m'Brian'\u001b[0m\u001b[0;34m]\u001b[0m\u001b[0;34m(\u001b[0m\u001b[0mProt\u001b[0m\u001b[0;34m,\u001b[0m \u001b[0mRhO\u001b[0m\u001b[0;34m,\u001b[0m \u001b[0msimParams\u001b[0m\u001b[0;34m[\u001b[0m\u001b[0;34m'Brian'\u001b[0m\u001b[0;34m]\u001b[0m\u001b[0;34m,\u001b[0m \u001b[0mnet\u001b[0m\u001b[0;34m,\u001b[0m \u001b[0mnetParams\u001b[0m\u001b[0;34m,\u001b[0m \u001b[0mmonitors\u001b[0m\u001b[0;34m)\u001b[0m\u001b[0;34m\u001b[0m\u001b[0;34m\u001b[0m\u001b[0m\n\u001b[0;32m----> 8\u001b[0;31m \u001b[0mSim\u001b[0m\u001b[0;34m.\u001b[0m\u001b[0mrun\u001b[0m\u001b[0;34m(\u001b[0m\u001b[0;34m)\u001b[0m\u001b[0;34m\u001b[0m\u001b[0;34m\u001b[0m\u001b[0m\n\u001b[0m\u001b[1;32m      9\u001b[0m \u001b[0mSim\u001b[0m\u001b[0;34m.\u001b[0m\u001b[0mplot\u001b[0m\u001b[0;34m(\u001b[0m\u001b[0;34m)\u001b[0m\u001b[0;34m\u001b[0m\u001b[0;34m\u001b[0m\u001b[0m\n\u001b[1;32m     10\u001b[0m \u001b[0mend\u001b[0m\u001b[0;34m=\u001b[0m\u001b[0mtime\u001b[0m\u001b[0;34m.\u001b[0m\u001b[0mtime\u001b[0m\u001b[0;34m(\u001b[0m\u001b[0;34m)\u001b[0m\u001b[0;34m\u001b[0m\u001b[0;34m\u001b[0m\u001b[0m\n",
      "\u001b[0;32m~/anaconda3/lib/python3.7/site-packages/pyrho/simulators.py\u001b[0m in \u001b[0;36mrun\u001b[0;34m(self, verbose)\u001b[0m\n\u001b[1;32m     92\u001b[0m                     \u001b[0;32melse\u001b[0m\u001b[0;34m:\u001b[0m \u001b[0;31m# Arbitrary functions of time: phi(t)\u001b[0m\u001b[0;34m\u001b[0m\u001b[0;34m\u001b[0m\u001b[0m\n\u001b[1;32m     93\u001b[0m                         \u001b[0mphi_ts\u001b[0m \u001b[0;34m=\u001b[0m \u001b[0mProt\u001b[0m\u001b[0;34m.\u001b[0m\u001b[0mphi_ts\u001b[0m\u001b[0;34m[\u001b[0m\u001b[0mrun\u001b[0m\u001b[0;34m]\u001b[0m\u001b[0;34m[\u001b[0m\u001b[0mphiInd\u001b[0m\u001b[0;34m]\u001b[0m\u001b[0;34m[\u001b[0m\u001b[0;34m:\u001b[0m\u001b[0;34m]\u001b[0m\u001b[0;34m\u001b[0m\u001b[0;34m\u001b[0m\u001b[0m\n\u001b[0;32m---> 94\u001b[0;31m                         \u001b[0mI_RhO\u001b[0m\u001b[0;34m,\u001b[0m \u001b[0mt\u001b[0m\u001b[0;34m,\u001b[0m \u001b[0msoln\u001b[0m \u001b[0;34m=\u001b[0m \u001b[0mself\u001b[0m\u001b[0;34m.\u001b[0m\u001b[0mrunTrialPhi_t\u001b[0m\u001b[0;34m(\u001b[0m\u001b[0mRhO\u001b[0m\u001b[0;34m,\u001b[0m \u001b[0mphi_ts\u001b[0m\u001b[0;34m,\u001b[0m \u001b[0mV\u001b[0m\u001b[0;34m,\u001b[0m \u001b[0mdelD\u001b[0m\u001b[0;34m,\u001b[0m \u001b[0mcycles\u001b[0m\u001b[0;34m,\u001b[0m \u001b[0mself\u001b[0m\u001b[0;34m.\u001b[0m\u001b[0mdt\u001b[0m\u001b[0;34m,\u001b[0m \u001b[0mverbose\u001b[0m\u001b[0;34m)\u001b[0m \u001b[0;31m#, totT\u001b[0m\u001b[0;34m\u001b[0m\u001b[0;34m\u001b[0m\u001b[0m\n\u001b[0m\u001b[1;32m     95\u001b[0m \u001b[0;34m\u001b[0m\u001b[0m\n\u001b[1;32m     96\u001b[0m                     \u001b[0mPC\u001b[0m \u001b[0;34m=\u001b[0m \u001b[0mPhotoCurrent\u001b[0m\u001b[0;34m(\u001b[0m\u001b[0mI_RhO\u001b[0m\u001b[0;34m,\u001b[0m \u001b[0mt\u001b[0m\u001b[0;34m,\u001b[0m \u001b[0mpulses\u001b[0m\u001b[0;34m,\u001b[0m \u001b[0mphiOn\u001b[0m\u001b[0;34m,\u001b[0m \u001b[0mV\u001b[0m\u001b[0;34m,\u001b[0m \u001b[0mProt\u001b[0m\u001b[0;34m.\u001b[0m\u001b[0mprotocol\u001b[0m\u001b[0;34m)\u001b[0m\u001b[0;34m\u001b[0m\u001b[0;34m\u001b[0m\u001b[0m\n",
      "\u001b[0;32m~/anaconda3/lib/python3.7/site-packages/pyrho/simulators.py\u001b[0m in \u001b[0;36mrunTrialPhi_t\u001b[0;34m(self, RhO, phi_ts, V, delD, cycles, dt, verbose)\u001b[0m\n\u001b[1;32m   1176\u001b[0m         \u001b[0mphi\u001b[0m \u001b[0;34m=\u001b[0m \u001b[0mself\u001b[0m\u001b[0;34m.\u001b[0m\u001b[0mbr\u001b[0m\u001b[0;34m.\u001b[0m\u001b[0mTimedArray\u001b[0m\u001b[0;34m(\u001b[0m\u001b[0mphi_tV\u001b[0m \u001b[0;34m*\u001b[0m \u001b[0mmodelUnits\u001b[0m\u001b[0;34m[\u001b[0m\u001b[0;34m'phi_m'\u001b[0m\u001b[0;34m]\u001b[0m\u001b[0;34m,\u001b[0m \u001b[0mdt\u001b[0m\u001b[0;34m=\u001b[0m\u001b[0mdt\u001b[0m\u001b[0;34m*\u001b[0m\u001b[0mms\u001b[0m\u001b[0;34m,\u001b[0m \u001b[0mname\u001b[0m\u001b[0;34m=\u001b[0m\u001b[0;34m'phi'\u001b[0m\u001b[0;34m)\u001b[0m \u001b[0;31m# 'phi_t'\u001b[0m\u001b[0;34m\u001b[0m\u001b[0;34m\u001b[0m\u001b[0m\n\u001b[1;32m   1177\u001b[0m         \u001b[0mself\u001b[0m\u001b[0;34m.\u001b[0m\u001b[0mnamespace\u001b[0m\u001b[0;34m.\u001b[0m\u001b[0mupdate\u001b[0m\u001b[0;34m(\u001b[0m\u001b[0;34m{\u001b[0m\u001b[0;34m'phi'\u001b[0m\u001b[0;34m:\u001b[0m\u001b[0mphi\u001b[0m\u001b[0;34m}\u001b[0m\u001b[0;34m)\u001b[0m\u001b[0;34m\u001b[0m\u001b[0;34m\u001b[0m\u001b[0m\n\u001b[0;32m-> 1178\u001b[0;31m         \u001b[0mself\u001b[0m\u001b[0;34m.\u001b[0m\u001b[0mnet\u001b[0m\u001b[0;34m.\u001b[0m\u001b[0mrun\u001b[0m\u001b[0;34m(\u001b[0m\u001b[0mduration\u001b[0m\u001b[0;34m=\u001b[0m\u001b[0mduration\u001b[0m\u001b[0;34m*\u001b[0m\u001b[0mms\u001b[0m\u001b[0;34m,\u001b[0m \u001b[0mnamespace\u001b[0m\u001b[0;34m=\u001b[0m\u001b[0mself\u001b[0m\u001b[0;34m.\u001b[0m\u001b[0mnamespace\u001b[0m\u001b[0;34m,\u001b[0m \u001b[0mreport\u001b[0m\u001b[0;34m=\u001b[0m\u001b[0mreport\u001b[0m\u001b[0;34m)\u001b[0m\u001b[0;34m\u001b[0m\u001b[0;34m\u001b[0m\u001b[0m\n\u001b[0m\u001b[1;32m   1179\u001b[0m \u001b[0;34m\u001b[0m\u001b[0m\n\u001b[1;32m   1180\u001b[0m         \u001b[0;31m### Calculate photocurrent\u001b[0m\u001b[0;34m\u001b[0m\u001b[0;34m\u001b[0m\u001b[0;34m\u001b[0m\u001b[0m\n",
      "\u001b[0;32m~/anaconda3/lib/python3.7/site-packages/brian2/core/base.py\u001b[0m in \u001b[0;36mdevice_override_decorated_function\u001b[0;34m(*args, **kwds)\u001b[0m\n\u001b[1;32m    276\u001b[0m                 \u001b[0;32mreturn\u001b[0m \u001b[0mgetattr\u001b[0m\u001b[0;34m(\u001b[0m\u001b[0mcurdev\u001b[0m\u001b[0;34m,\u001b[0m \u001b[0mname\u001b[0m\u001b[0;34m)\u001b[0m\u001b[0;34m(\u001b[0m\u001b[0;34m*\u001b[0m\u001b[0margs\u001b[0m\u001b[0;34m,\u001b[0m \u001b[0;34m**\u001b[0m\u001b[0mkwds\u001b[0m\u001b[0;34m)\u001b[0m\u001b[0;34m\u001b[0m\u001b[0;34m\u001b[0m\u001b[0m\n\u001b[1;32m    277\u001b[0m             \u001b[0;32melse\u001b[0m\u001b[0;34m:\u001b[0m\u001b[0;34m\u001b[0m\u001b[0;34m\u001b[0m\u001b[0m\n\u001b[0;32m--> 278\u001b[0;31m                 \u001b[0;32mreturn\u001b[0m \u001b[0mfunc\u001b[0m\u001b[0;34m(\u001b[0m\u001b[0;34m*\u001b[0m\u001b[0margs\u001b[0m\u001b[0;34m,\u001b[0m \u001b[0;34m**\u001b[0m\u001b[0mkwds\u001b[0m\u001b[0;34m)\u001b[0m\u001b[0;34m\u001b[0m\u001b[0;34m\u001b[0m\u001b[0m\n\u001b[0m\u001b[1;32m    279\u001b[0m \u001b[0;34m\u001b[0m\u001b[0m\n\u001b[1;32m    280\u001b[0m         \u001b[0mdevice_override_decorated_function\u001b[0m\u001b[0;34m.\u001b[0m\u001b[0m__doc__\u001b[0m \u001b[0;34m=\u001b[0m \u001b[0mfunc\u001b[0m\u001b[0;34m.\u001b[0m\u001b[0m__doc__\u001b[0m\u001b[0;34m\u001b[0m\u001b[0;34m\u001b[0m\u001b[0m\n",
      "\u001b[0;32m~/anaconda3/lib/python3.7/site-packages/brian2/units/fundamentalunits.py\u001b[0m in \u001b[0;36mnew_f\u001b[0;34m(*args, **kwds)\u001b[0m\n\u001b[1;32m   2432\u001b[0m                                                      get_dimensions(newkeyset[k]))\n\u001b[1;32m   2433\u001b[0m \u001b[0;34m\u001b[0m\u001b[0m\n\u001b[0;32m-> 2434\u001b[0;31m             \u001b[0mresult\u001b[0m \u001b[0;34m=\u001b[0m \u001b[0mf\u001b[0m\u001b[0;34m(\u001b[0m\u001b[0;34m*\u001b[0m\u001b[0margs\u001b[0m\u001b[0;34m,\u001b[0m \u001b[0;34m**\u001b[0m\u001b[0mkwds\u001b[0m\u001b[0;34m)\u001b[0m\u001b[0;34m\u001b[0m\u001b[0;34m\u001b[0m\u001b[0m\n\u001b[0m\u001b[1;32m   2435\u001b[0m             \u001b[0;32mif\u001b[0m \u001b[0;34m'result'\u001b[0m \u001b[0;32min\u001b[0m \u001b[0mau\u001b[0m\u001b[0;34m:\u001b[0m\u001b[0;34m\u001b[0m\u001b[0;34m\u001b[0m\u001b[0m\n\u001b[1;32m   2436\u001b[0m                 \u001b[0;32mif\u001b[0m \u001b[0misinstance\u001b[0m\u001b[0;34m(\u001b[0m\u001b[0mau\u001b[0m\u001b[0;34m[\u001b[0m\u001b[0;34m'result'\u001b[0m\u001b[0;34m]\u001b[0m\u001b[0;34m,\u001b[0m \u001b[0mCallable\u001b[0m\u001b[0;34m)\u001b[0m \u001b[0;32mand\u001b[0m \u001b[0mau\u001b[0m\u001b[0;34m[\u001b[0m\u001b[0;34m'result'\u001b[0m\u001b[0;34m]\u001b[0m \u001b[0;34m!=\u001b[0m \u001b[0mbool\u001b[0m\u001b[0;34m:\u001b[0m\u001b[0;34m\u001b[0m\u001b[0;34m\u001b[0m\u001b[0m\n",
      "\u001b[0;32m~/anaconda3/lib/python3.7/site-packages/brian2/core/network.py\u001b[0m in \u001b[0;36mrun\u001b[0;34m(self, duration, report, report_period, namespace, profile, level)\u001b[0m\n\u001b[1;32m   1074\u001b[0m                 \u001b[0;32melse\u001b[0m\u001b[0;34m:\u001b[0m\u001b[0;34m\u001b[0m\u001b[0;34m\u001b[0m\u001b[0m\n\u001b[1;32m   1075\u001b[0m                     \u001b[0;32mfor\u001b[0m \u001b[0mobj\u001b[0m \u001b[0;32min\u001b[0m \u001b[0mactive_objects\u001b[0m\u001b[0;34m:\u001b[0m\u001b[0;34m\u001b[0m\u001b[0;34m\u001b[0m\u001b[0m\n\u001b[0;32m-> 1076\u001b[0;31m                         \u001b[0mobj\u001b[0m\u001b[0;34m.\u001b[0m\u001b[0mrun\u001b[0m\u001b[0;34m(\u001b[0m\u001b[0;34m)\u001b[0m\u001b[0;34m\u001b[0m\u001b[0;34m\u001b[0m\u001b[0m\n\u001b[0m\u001b[1;32m   1077\u001b[0m \u001b[0;34m\u001b[0m\u001b[0m\n\u001b[1;32m   1078\u001b[0m                 \u001b[0mtimestep\u001b[0m\u001b[0;34m[\u001b[0m\u001b[0;36m0\u001b[0m\u001b[0;34m]\u001b[0m \u001b[0;34m+=\u001b[0m \u001b[0;36m1\u001b[0m\u001b[0;34m\u001b[0m\u001b[0;34m\u001b[0m\u001b[0m\n",
      "\u001b[0;32m~/anaconda3/lib/python3.7/site-packages/brian2/core/base.py\u001b[0m in \u001b[0;36mrun\u001b[0;34m(self)\u001b[0m\n\u001b[1;32m    179\u001b[0m     \u001b[0;32mdef\u001b[0m \u001b[0mrun\u001b[0m\u001b[0;34m(\u001b[0m\u001b[0mself\u001b[0m\u001b[0;34m)\u001b[0m\u001b[0;34m:\u001b[0m\u001b[0;34m\u001b[0m\u001b[0;34m\u001b[0m\u001b[0m\n\u001b[1;32m    180\u001b[0m         \u001b[0;32mfor\u001b[0m \u001b[0mcodeobj\u001b[0m \u001b[0;32min\u001b[0m \u001b[0mself\u001b[0m\u001b[0;34m.\u001b[0m\u001b[0m_code_objects\u001b[0m\u001b[0;34m:\u001b[0m\u001b[0;34m\u001b[0m\u001b[0;34m\u001b[0m\u001b[0m\n\u001b[0;32m--> 181\u001b[0;31m             \u001b[0mcodeobj\u001b[0m\u001b[0;34m(\u001b[0m\u001b[0;34m)\u001b[0m\u001b[0;34m\u001b[0m\u001b[0;34m\u001b[0m\u001b[0m\n\u001b[0m\u001b[1;32m    182\u001b[0m \u001b[0;34m\u001b[0m\u001b[0m\n\u001b[1;32m    183\u001b[0m     contained_objects = property(fget=lambda self:self._contained_objects,\n",
      "\u001b[0;32m~/anaconda3/lib/python3.7/site-packages/brian2/codegen/codeobject.py\u001b[0m in \u001b[0;36m__call__\u001b[0;34m(self, **kwds)\u001b[0m\n\u001b[1;32m    105\u001b[0m         \u001b[0mself\u001b[0m\u001b[0;34m.\u001b[0m\u001b[0mnamespace\u001b[0m\u001b[0;34m.\u001b[0m\u001b[0mupdate\u001b[0m\u001b[0;34m(\u001b[0m\u001b[0;34m**\u001b[0m\u001b[0mkwds\u001b[0m\u001b[0;34m)\u001b[0m\u001b[0;34m\u001b[0m\u001b[0;34m\u001b[0m\u001b[0m\n\u001b[1;32m    106\u001b[0m \u001b[0;34m\u001b[0m\u001b[0m\n\u001b[0;32m--> 107\u001b[0;31m         \u001b[0;32mreturn\u001b[0m \u001b[0mself\u001b[0m\u001b[0;34m.\u001b[0m\u001b[0mrun\u001b[0m\u001b[0;34m(\u001b[0m\u001b[0;34m)\u001b[0m\u001b[0;34m\u001b[0m\u001b[0;34m\u001b[0m\u001b[0m\n\u001b[0m\u001b[1;32m    108\u001b[0m \u001b[0;34m\u001b[0m\u001b[0m\n\u001b[1;32m    109\u001b[0m     \u001b[0;32mdef\u001b[0m \u001b[0mrun_block\u001b[0m\u001b[0;34m(\u001b[0m\u001b[0mself\u001b[0m\u001b[0;34m,\u001b[0m \u001b[0mblock\u001b[0m\u001b[0;34m)\u001b[0m\u001b[0;34m:\u001b[0m\u001b[0;34m\u001b[0m\u001b[0;34m\u001b[0m\u001b[0m\n",
      "\u001b[0;32m~/anaconda3/lib/python3.7/site-packages/brian2/codegen/codeobject.py\u001b[0m in \u001b[0;36mrun\u001b[0;34m(self)\u001b[0m\n\u001b[1;32m    133\u001b[0m             \u001b[0mdefined\u001b[0m \u001b[0mduring\u001b[0m \u001b[0mthe\u001b[0m \u001b[0mcall\u001b[0m \u001b[0mof\u001b[0m\u001b[0;31m \u001b[0m\u001b[0;31m`\u001b[0m\u001b[0mCodeGenerator\u001b[0m\u001b[0;34m.\u001b[0m\u001b[0mcode_object\u001b[0m\u001b[0;31m`\u001b[0m\u001b[0;34m.\u001b[0m\u001b[0;34m\u001b[0m\u001b[0;34m\u001b[0m\u001b[0m\n\u001b[1;32m    134\u001b[0m         '''\n\u001b[0;32m--> 135\u001b[0;31m         \u001b[0;32mreturn\u001b[0m \u001b[0mself\u001b[0m\u001b[0;34m.\u001b[0m\u001b[0mrun_block\u001b[0m\u001b[0;34m(\u001b[0m\u001b[0;34m'run'\u001b[0m\u001b[0;34m)\u001b[0m\u001b[0;34m\u001b[0m\u001b[0;34m\u001b[0m\u001b[0m\n\u001b[0m\u001b[1;32m    136\u001b[0m \u001b[0;34m\u001b[0m\u001b[0m\n\u001b[1;32m    137\u001b[0m     \u001b[0;32mdef\u001b[0m \u001b[0mafter_run\u001b[0m\u001b[0;34m(\u001b[0m\u001b[0mself\u001b[0m\u001b[0;34m)\u001b[0m\u001b[0;34m:\u001b[0m\u001b[0;34m\u001b[0m\u001b[0;34m\u001b[0m\u001b[0m\n",
      "\u001b[0;32m~/anaconda3/lib/python3.7/site-packages/brian2/codegen/runtime/cython_rt/cython_rt.py\u001b[0m in \u001b[0;36mrun_block\u001b[0;34m(self, block)\u001b[0m\n\u001b[1;32m    162\u001b[0m                 message = ('An exception occured during the execution of the {} '\n\u001b[1;32m    163\u001b[0m                            'block of code object {}.\\n').format(block, self.name)\n\u001b[0;32m--> 164\u001b[0;31m                 \u001b[0;32mraise\u001b[0m \u001b[0mBrianObjectException\u001b[0m\u001b[0;34m(\u001b[0m\u001b[0mmessage\u001b[0m\u001b[0;34m,\u001b[0m \u001b[0mself\u001b[0m\u001b[0;34m.\u001b[0m\u001b[0mowner\u001b[0m\u001b[0;34m)\u001b[0m \u001b[0;32mfrom\u001b[0m \u001b[0mexc\u001b[0m\u001b[0;34m\u001b[0m\u001b[0;34m\u001b[0m\u001b[0m\n\u001b[0m\u001b[1;32m    165\u001b[0m \u001b[0;34m\u001b[0m\u001b[0m\n\u001b[1;32m    166\u001b[0m     \u001b[0;32mdef\u001b[0m \u001b[0m_insert_func_namespace\u001b[0m\u001b[0;34m(\u001b[0m\u001b[0mself\u001b[0m\u001b[0;34m,\u001b[0m \u001b[0mfunc\u001b[0m\u001b[0;34m)\u001b[0m\u001b[0;34m:\u001b[0m\u001b[0;34m\u001b[0m\u001b[0;34m\u001b[0m\u001b[0m\n",
      "\u001b[0;31mBrianObjectException\u001b[0m: Error encountered with object named \"statemonitor_3\".\nObject was created here (most recent call only, full details in debug log):\n  File \"<ipython-input-34-550b4b2f4727>\", line 35, in <module>\n    monitors={'states' : StateMonitor(neuron_rho, RhO.brianStateVars, record=0), 'I': StateMonitor(neuron_rho, 'I', record=0),                  # Record current\n\nAn exception occured during the execution of the run block of code object statemonitor_3_codeobject.\n (See above for original error message and traceback.)"
     ]
    }
   ],
   "source": [
    "### Run the simulation\n",
    "import time\n",
    "start=time.time()\n",
    "import brian2 as br\n",
    "net = br.Network(br.collect())\n",
    "net.add(monitors.values())\n",
    "Sim = simulators['Brian'](Prot, RhO, simParams['Brian'], net, netParams, monitors)\n",
    "Sim.run()\n",
    "Sim.plot()\n",
    "end=time.time()\n",
    "print(end-start)"
   ]
  }
 ],
 "metadata": {
  "kernelspec": {
   "display_name": "Python 3",
   "language": "python",
   "name": "python3"
  },
  "language_info": {
   "codemirror_mode": {
    "name": "ipython",
    "version": 3
   },
   "file_extension": ".py",
   "mimetype": "text/x-python",
   "name": "python",
   "nbconvert_exporter": "python",
   "pygments_lexer": "ipython3",
   "version": "3.7.10"
  }
 },
 "nbformat": 4,
 "nbformat_minor": 5
}
