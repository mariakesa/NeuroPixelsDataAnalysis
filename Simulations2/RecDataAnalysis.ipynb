{
 "cells": [
  {
   "cell_type": "code",
   "execution_count": 1,
   "id": "3f529c1b",
   "metadata": {},
   "outputs": [],
   "source": [
    "import numpy as np\n",
    "import matplotlib.pyplot as plt\n",
    "from sklearn.decomposition import PCA"
   ]
  },
  {
   "cell_type": "code",
   "execution_count": 31,
   "id": "5e4bca62",
   "metadata": {},
   "outputs": [],
   "source": [
    "def bin_spikes(spike_times,spike_clusters, bin_size = 10):\n",
    "\n",
    "    # Using clusters._phy_annotation.npy obtain valid clusters (i.e. >= 2)\n",
    "    # valid_clusters_idx = np.array(np.where(clusters_annotation>=2))[0]\n",
    "\n",
    "    spike_time_cells = np.empty(1000, dtype=object) # Initalise empty object\n",
    "    for i in (np.arange(len(np.unique(spike_clusters)))):\n",
    "      # Create a spike time arrays, where each array in the array is a spike time of a cell\n",
    "      spike_time_cells[i] = spike_times[(np.where(spike_clusters == i)[0])]\n",
    "\n",
    "    # Bin spike times into 10ms intervals\n",
    "    spike_time_binned = np.empty(len(np.unique(spike_clusters)), dtype=object) # Initalise empty object\n",
    "    sum_spikes = np.empty(len(np.unique(spike_clusters)), dtype=object) # Initalise empty object\n",
    "\n",
    "    for cell_num in np.arange(len(spike_time_cells)):\n",
    "        spike_time_hist = np.histogram(spike_time_cells[cell_num],bins = np.arange(0,np.floor(spike_time_cells[cell_num][-1]),bin_size))\n",
    "        spike_time_binned[cell_num] = spike_time_hist[0][1000:]\n",
    "        sum_spikes[cell_num] = np.sum(spike_time_binned[cell_num])\n",
    "\n",
    "    cell_spikes_max = np.argmax(sum_spikes) # cell with the maximum number of spikes for plotting purposes\n",
    "    # Spike_time_binned returns binned spikes sorted into cells\n",
    "    # Spike_time_cells returns UNbinned spikes sorted into cells\n",
    "    # cell_spikes_max returns a single cell index that has the max number of spikes (i.e most active cell)\n",
    "    return spike_time_binned"
   ]
  },
  {
   "cell_type": "code",
   "execution_count": 47,
   "id": "0776afdd",
   "metadata": {},
   "outputs": [],
   "source": [
    "spks=np.load('Mgpt_AMPA_GABA_rec_NP.npy')*1000\n",
    "spk_clusters=np.load('Mgpi_AMPA_GABA_rec_NP.npy')"
   ]
  },
  {
   "cell_type": "code",
   "execution_count": 48,
   "id": "c8e7627f",
   "metadata": {},
   "outputs": [],
   "source": [
    "spike_time_binned= bin_spikes(spks,spk_clusters, bin_size = 10)"
   ]
  },
  {
   "cell_type": "code",
   "execution_count": 49,
   "id": "803be00c",
   "metadata": {},
   "outputs": [],
   "source": [
    "def convert_for_pca(binned_spikes):\n",
    "    spk_arr=[]\n",
    "    for j in range(binned_spikes.shape[0]):\n",
    "        spk_arr.append(list(binned_spikes[j])+[0]*(10000-binned_spikes[j].shape[0]))\n",
    "    spk_arr=np.array(spk_arr).reshape(1000,-1)\n",
    "    return spk_arr"
   ]
  },
  {
   "cell_type": "code",
   "execution_count": 50,
   "id": "5045f3c8",
   "metadata": {},
   "outputs": [],
   "source": [
    "spk_arr=convert_for_pca(spike_time_binned)"
   ]
  },
  {
   "cell_type": "code",
   "execution_count": 30,
   "id": "35ded51f",
   "metadata": {},
   "outputs": [
    {
     "data": {
      "text/plain": [
       "array([    0.  ,     0.  ,     0.  , ..., 19999.55, 19999.6 , 19999.74])"
      ]
     },
     "execution_count": 30,
     "metadata": {},
     "output_type": "execute_result"
    }
   ],
   "source": [
    "spks"
   ]
  },
  {
   "cell_type": "code",
   "execution_count": 51,
   "id": "6fbf83a6",
   "metadata": {},
   "outputs": [],
   "source": [
    "pca=PCA(n_components=50)\n",
    "pca.fit(spk_arr.T)\n",
    "var_exp=pca.explained_variance_ratio_"
   ]
  },
  {
   "cell_type": "code",
   "execution_count": 37,
   "id": "a4b6f1d4",
   "metadata": {},
   "outputs": [
    {
     "data": {
      "text/plain": [
       "[<matplotlib.lines.Line2D at 0x7f0c415f8910>]"
      ]
     },
     "execution_count": 37,
     "metadata": {},
     "output_type": "execute_result"
    },
    {
     "data": {
      "image/png": "[encoded data removed]",
      "text/plain": [
       "<Figure size 432x288 with 1 Axes>"
      ]
     },
     "metadata": {
      "needs_background": "light"
     },
     "output_type": "display_data"
    }
   ],
   "source": [
    "plt.plot(np.cumsum(var_exp))"
   ]
  },
  {
   "cell_type": "code",
   "execution_count": 52,
   "id": "0f200359",
   "metadata": {},
   "outputs": [],
   "source": [
    "spks=np.load('Mgpt_AMPA_GABA_rec_poisson.npy')*1000\n",
    "spk_clusters=np.load('Mgpi_AMPA_GABA_rec_poisson.npy')"
   ]
  },
  {
   "cell_type": "code",
   "execution_count": 53,
   "id": "38b19b65",
   "metadata": {},
   "outputs": [],
   "source": [
    "spike_time_binned= bin_spikes(spks,spk_clusters, bin_size = 10)"
   ]
  },
  {
   "cell_type": "code",
   "execution_count": 54,
   "id": "b3edcec3",
   "metadata": {},
   "outputs": [],
   "source": [
    "spk_arr=convert_for_pca(spike_time_binned)"
   ]
  },
  {
   "cell_type": "code",
   "execution_count": 55,
   "id": "077fa6d8",
   "metadata": {},
   "outputs": [],
   "source": [
    "pca=PCA(n_components=50)\n",
    "pca.fit(spk_arr.T)\n",
    "var_exp_poisson=pca.explained_variance_ratio_"
   ]
  },
  {
   "cell_type": "code",
   "execution_count": 58,
   "id": "f8f32652",
   "metadata": {},
   "outputs": [
    {
     "data": {
      "text/plain": [
       "(1000, 10000)"
      ]
     },
     "execution_count": 58,
     "metadata": {},
     "output_type": "execute_result"
    }
   ],
   "source": []
  },
  {
   "cell_type": "code",
   "execution_count": 57,
   "id": "96d233bf",
   "metadata": {},
   "outputs": [
    {
     "data": {
      "text/plain": [
       "<matplotlib.legend.Legend at 0x7f0c417bdc50>"
      ]
     },
     "execution_count": 57,
     "metadata": {},
     "output_type": "execute_result"
    },
    {
     "data": {
      "image/png": "[encoded data removed]",
      "text/plain": [
       "<Figure size 432x288 with 1 Axes>"
      ]
     },
     "metadata": {
      "needs_background": "light"
     },
     "output_type": "display_data"
    }
   ],
   "source": [
    "plt.plot(np.cumsum(var_exp),label='Variance explained Neuropixels')\n",
    "plt.plot(np.cumsum(var_exp_poisson),label='Variance explained Poisson')\n",
    "plt.legend()"
   ]
  }
 ],
 "metadata": {
  "kernelspec": {
   "display_name": "Python 3",
   "language": "python",
   "name": "python3"
  },
  "language_info": {
   "codemirror_mode": {
    "name": "ipython",
    "version": 3
   },
   "file_extension": ".py",
   "mimetype": "text/x-python",
   "name": "python",
   "nbconvert_exporter": "python",
   "pygments_lexer": "ipython3",
   "version": "3.7.10"
  }
 },
 "nbformat": 4,
 "nbformat_minor": 5
}
