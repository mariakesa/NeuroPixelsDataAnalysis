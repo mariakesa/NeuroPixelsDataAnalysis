{
 "cells": [
  {
   "cell_type": "code",
   "execution_count": 1,
   "id": "7289b734",
   "metadata": {},
   "outputs": [],
   "source": [
    "from brian2 import *\n",
    "import numpy as np\n",
    "import matplotlib.pyplot as plt\n",
    "%matplotlib inline\n",
    "import time"
   ]
  },
  {
   "cell_type": "code",
   "execution_count": 2,
   "id": "d7db13f5",
   "metadata": {},
   "outputs": [],
   "source": [
    "spikes=np.load('spikes.npy')\n",
    "cell_identity=np.load('cell_identity.npy')[spikes>0]\n",
    "spikes=spikes[spikes>0]"
   ]
  },
  {
   "cell_type": "code",
   "execution_count": null,
   "id": "add85934",
   "metadata": {},
   "outputs": [],
   "source": [
    "start=time.time()\n",
    "simulation_clock=Clock(dt = 0.01*ms)\n",
    "defaultclock.dt = 0.01*ms\n",
    "tau = 10*ms\n",
    "vr = -70*mV\n",
    "vt = -60*mV\n",
    "Vth_i= -50.0*mV\n",
    "Vr_i= -60.0*mV\n",
    "eqs = '''\n",
    "dv/dt = (I_ampa+I_gaba)/Cm : volt\n",
    "I_ampa=-g_ext_ampa*s_ext*(v-E_ampa) : amp\n",
    "I_gaba=-g_ext_gaba*s_gaba*(v-E_gaba) : amp\n",
    "ds_ext/dt=-s_ext/t_ampa : 1\n",
    "ds_gaba/dt = -s_gaba/t_gaba : 1\n",
    "'''\n",
    "eqs_i='''\n",
    "dv/dt = (I_ampa+I_gaba)/Cm : volt\n",
    "I_ampa=-g_ext_i*s_ext*(v-E_ampa) : amp\n",
    "I_gaba=-g_gaba*s_gaba*(v-E_gaba) : amp\n",
    "ds_ext/dt=-s_ext/t_ampa : 1\n",
    "ds_gaba/dt = -s_gaba/t_gaba : 1\n",
    "'''\n",
    "t_ampa=2*ms\n",
    "t_gaba= 10.0*ms\n",
    "Cm= 0.5*nF\n",
    "E_ampa=0.0*mV\n",
    "E_gaba = -70.0*mV\n",
    "g_ext_ampa=3.1*nS\n",
    "g_gaba=1.024*nS\n",
    "g_ext_gaba=1.34765625*nS\n",
    "g_ext_i= 2.38*nS \n",
    "neuron = NeuronGroup(100, eqs, threshold='v>vt', reset='v=vr')\n",
    "neuron_inh=NeuronGroup(50,eqs_i,threshold='v>Vth_i', reset='v=Vr_i')\n",
    "neuron.v = E_ampa\n",
    "neuron_inh.v=E_gaba\n",
    "neuron.s_ext = 0\n",
    "neuron_inh.s_ext = 0\n",
    "neuron_inh.s_gaba = 0\n",
    "spikes_gen=SpikeGeneratorGroup(1000,list(cell_identity),spikes*ms)\n",
    "w = 1\n",
    "S1 = Synapses(spikes_gen, neuron, on_pre='s_ext += 0.25')\n",
    "S1.connect(p=0.1)\n",
    "S2 = Synapses(neuron, neuron, on_pre='s_ext += 0.25')\n",
    "S2.connect(p=0.5)\n",
    "S3 = Synapses(neuron_inh, neuron, on_pre='s_gaba += 1.0')\n",
    "S3.connect(p=0.5)\n",
    "S4 = Synapses(neuron_inh, neuron_inh, on_pre='s_gaba += 1.0')\n",
    "S4.connect(p=0.25)\n",
    "S5 = Synapses(spikes_gen, neuron_inh, on_pre='s_ext += 0.25')\n",
    "S5.connect(p=0.1)\n",
    "S6 = Synapses(neuron, neuron_inh, on_pre='s_ext += 0.25')\n",
    "S6.connect(p=0.5)\n",
    "# Record the spikes\n",
    "Mgp = SpikeMonitor(neuron)\n",
    "Minput = SpikeMonitor(spikes_gen)\n",
    "pop=PopulationRateMonitor(spikes_gen)\n",
    "I_ampa_lst=[]\n",
    "I_gaba_lst=[]\n",
    "@network_operation(simulation_clock,when='start')\n",
    "def update_nmda(simulation_clock):\n",
    "    I_ampa=np.sum(neuron.I_ampa[:])\n",
    "    I_gaba=np.sum(neuron.I_gaba[:])\n",
    "    I_ampa_lst.append(I_ampa)\n",
    "    I_gaba_lst.append(I_gaba)\n",
    "duration=10000*ms\n",
    "run(duration)\n",
    "end=time.time()\n",
    "print(end-start)"
   ]
  }
 ],
 "metadata": {
  "kernelspec": {
   "display_name": "Python 3",
   "language": "python",
   "name": "python3"
  },
  "language_info": {
   "codemirror_mode": {
    "name": "ipython",
    "version": 3
   },
   "file_extension": ".py",
   "mimetype": "text/x-python",
   "name": "python",
   "nbconvert_exporter": "python",
   "pygments_lexer": "ipython3",
   "version": "3.7.10"
  }
 },
 "nbformat": 4,
 "nbformat_minor": 5
}
